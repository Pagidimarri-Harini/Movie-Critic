{
  "cells": [
    {
      "cell_type": "markdown",
      "metadata": {
        "id": "ROQZLZ45iCAo"
      },
      "source": [
        "**PROBLEM STATEMENT**\n",
        "\n",
        "In this dataset, you are provided with 7398 movies and a variety of metadata obtained from The Movie Database (TMDB). Movies are labeled with id. Data points include cast, crew, plot keywords, budget, posters, release dates, languages, production companies, and countries.\n",
        "\n",
        "You are predicting the worldwide revenue for 4398 movies in the test file.\n",
        "\n",
        "Note - many movies are remade over the years, therefore it may seem like multiple instance of a movie may appear in the data, however they are different and should be considered separate movies. In addition, some movies may share a title, but be entirely unrelated.\n",
        "\n",
        "E.g. The Karate Kid (id: 5266) was released in 1986, while a clearly (or maybe just subjectively) inferior remake (id: 1987) was released in 2010. Also, while the Frozen (id: 5295) released by Disney in 2013 may be the household name, don't forget about the less-popular Frozen (id: 139) released three years earlier about skiers who are stranded on a chairlift..."
      ]
    },
    {
      "cell_type": "markdown",
      "metadata": {
        "id": "fGPgRBUDiRQB"
      },
      "source": [
        "**Importing** **Libraries**"
      ]
    },
    {
      "cell_type": "code",
      "execution_count": null,
      "metadata": {
        "id": "vBgYQiLfXhFD"
      },
      "outputs": [],
      "source": [
        "import pandas as pd  #used for data analysis and manipulation\n",
        "import numpy as np   #library used for working with arrays\n",
        "from sklearn.model_selection import train_test_split #splits arrays or matrices into random subsets\n",
        "from sklearn.linear_model import LinearRegression   #is a library which contains logistic regression\n",
        "from sklearn.metrics import mean_squared_error\n",
        "# !pip install wordcloud opendatasets scikit-learn --upgrade --quiet\n",
        "import matplotlib.pyplot as plt  #used for plotting data\n",
        "import seaborn as sns  #used for stats\n",
        "%matplotlib inline\n",
        "#displays the output in the current window\n",
        "sns.set_style('darkgrid')\n",
        "from datetime import datetime\n",
        "import datetime\n",
        "from collections import Counter\n",
        "# import os\n",
        "import ast  #abstract syntax trees\n",
        "pd.set_option(\"display.max_columns\", 120)\n",
        "pd.set_option(\"display.max_rows\", 120)\n",
        "\n",
        "import warnings\n",
        "warnings.filterwarnings(\"ignore\")"
      ]
    },
    {
      "cell_type": "code",
      "execution_count": null,
      "metadata": {
        "colab": {
          "base_uri": "https://localhost:8080/"
        },
        "id": "r_WSI4UDd3sh",
        "outputId": "0924e565-dd8c-4e87-f1a6-372b6c2d162e"
      },
      "outputs": [
        {
          "name": "stdout",
          "output_type": "stream",
          "text": [
            "Drive already mounted at /content/drive; to attempt to forcibly remount, call drive.mount(\"/content/drive\", force_remount=True).\n"
          ]
        }
      ],
      "source": [
        "from google.colab import drive\n",
        "drive.mount('/content/drive')"
      ]
    },
    {
      "cell_type": "markdown",
      "metadata": {
        "id": "XFIYNes5krPE"
      },
      "source": [
        "**Reading** **the data**"
      ]
    },
    {
      "cell_type": "code",
      "execution_count": null,
      "metadata": {
        "id": "vLkaeNu9X67m"
      },
      "outputs": [],
      "source": [
        "train = pd.read_csv(\"/content/drive/MyDrive/train.csv\")\n",
        "test = pd.read_csv(\"/content/drive/MyDrive/test.csv\")\n",
        "submission = pd.read_csv(\"/content/drive/MyDrive/ sample_submission.csv\")\n",
        "\n"
      ]
    },
    {
      "cell_type": "markdown",
      "metadata": {
        "id": "8e50840e"
      },
      "source": [
        "## EDA"
      ]
    },
    {
      "cell_type": "code",
      "execution_count": null,
      "metadata": {
        "colab": {
          "base_uri": "https://localhost:8080/",
          "height": 687
        },
        "id": "709700c4",
        "outputId": "f94427f6-8ee4-42c7-a52d-458382572232",
        "scrolled": true
      },
      "outputs": [
        {
          "data": {
            "text/html": [
              "\n",
              "  <div id=\"df-39f7b043-cf11-4881-b0ce-0a06c66cce9b\">\n",
              "    <div class=\"colab-df-container\">\n",
              "      <div>\n",
              "<style scoped>\n",
              "    .dataframe tbody tr th:only-of-type {\n",
              "        vertical-align: middle;\n",
              "    }\n",
              "\n",
              "    .dataframe tbody tr th {\n",
              "        vertical-align: top;\n",
              "    }\n",
              "\n",
              "    .dataframe thead th {\n",
              "        text-align: right;\n",
              "    }\n",
              "</style>\n",
              "<table border=\"1\" class=\"dataframe\">\n",
              "  <thead>\n",
              "    <tr style=\"text-align: right;\">\n",
              "      <th></th>\n",
              "      <th>id</th>\n",
              "      <th>belongs_to_collection</th>\n",
              "      <th>budget</th>\n",
              "      <th>genres</th>\n",
              "      <th>homepage</th>\n",
              "      <th>imdb_id</th>\n",
              "      <th>original_language</th>\n",
              "      <th>original_title</th>\n",
              "      <th>overview</th>\n",
              "      <th>popularity</th>\n",
              "      <th>poster_path</th>\n",
              "      <th>production_companies</th>\n",
              "      <th>production_countries</th>\n",
              "      <th>release_date</th>\n",
              "      <th>runtime</th>\n",
              "      <th>spoken_languages</th>\n",
              "      <th>status</th>\n",
              "      <th>tagline</th>\n",
              "      <th>title</th>\n",
              "      <th>Keywords</th>\n",
              "      <th>cast</th>\n",
              "      <th>crew</th>\n",
              "      <th>revenue</th>\n",
              "    </tr>\n",
              "  </thead>\n",
              "  <tbody>\n",
              "    <tr>\n",
              "      <th>0</th>\n",
              "      <td>1</td>\n",
              "      <td>[{'id': 313576, 'name': 'Hot Tub Time Machine ...</td>\n",
              "      <td>14000000</td>\n",
              "      <td>[{'id': 35, 'name': 'Comedy'}]</td>\n",
              "      <td>NaN</td>\n",
              "      <td>tt2637294</td>\n",
              "      <td>en</td>\n",
              "      <td>Hot Tub Time Machine 2</td>\n",
              "      <td>When Lou, who has become the \"father of the In...</td>\n",
              "      <td>6.575393</td>\n",
              "      <td>/tQtWuwvMf0hCc2QR2tkolwl7c3c.jpg</td>\n",
              "      <td>[{'name': 'Paramount Pictures', 'id': 4}, {'na...</td>\n",
              "      <td>[{'iso_3166_1': 'US', 'name': 'United States o...</td>\n",
              "      <td>2/20/15</td>\n",
              "      <td>93.0</td>\n",
              "      <td>[{'iso_639_1': 'en', 'name': 'English'}]</td>\n",
              "      <td>Released</td>\n",
              "      <td>The Laws of Space and Time are About to be Vio...</td>\n",
              "      <td>Hot Tub Time Machine 2</td>\n",
              "      <td>[{'id': 4379, 'name': 'time travel'}, {'id': 9...</td>\n",
              "      <td>[{'cast_id': 4, 'character': 'Lou', 'credit_id...</td>\n",
              "      <td>[{'credit_id': '59ac067c92514107af02c8c8', 'de...</td>\n",
              "      <td>12314651</td>\n",
              "    </tr>\n",
              "    <tr>\n",
              "      <th>1</th>\n",
              "      <td>2</td>\n",
              "      <td>[{'id': 107674, 'name': 'The Princess Diaries ...</td>\n",
              "      <td>40000000</td>\n",
              "      <td>[{'id': 35, 'name': 'Comedy'}, {'id': 18, 'nam...</td>\n",
              "      <td>NaN</td>\n",
              "      <td>tt0368933</td>\n",
              "      <td>en</td>\n",
              "      <td>The Princess Diaries 2: Royal Engagement</td>\n",
              "      <td>Mia Thermopolis is now a college graduate and ...</td>\n",
              "      <td>8.248895</td>\n",
              "      <td>/w9Z7A0GHEhIp7etpj0vyKOeU1Wx.jpg</td>\n",
              "      <td>[{'name': 'Walt Disney Pictures', 'id': 2}]</td>\n",
              "      <td>[{'iso_3166_1': 'US', 'name': 'United States o...</td>\n",
              "      <td>8/6/04</td>\n",
              "      <td>113.0</td>\n",
              "      <td>[{'iso_639_1': 'en', 'name': 'English'}]</td>\n",
              "      <td>Released</td>\n",
              "      <td>It can take a lifetime to find true love; she'...</td>\n",
              "      <td>The Princess Diaries 2: Royal Engagement</td>\n",
              "      <td>[{'id': 2505, 'name': 'coronation'}, {'id': 42...</td>\n",
              "      <td>[{'cast_id': 1, 'character': 'Mia Thermopolis'...</td>\n",
              "      <td>[{'credit_id': '52fe43fe9251416c7502563d', 'de...</td>\n",
              "      <td>95149435</td>\n",
              "    </tr>\n",
              "    <tr>\n",
              "      <th>2</th>\n",
              "      <td>3</td>\n",
              "      <td>NaN</td>\n",
              "      <td>3300000</td>\n",
              "      <td>[{'id': 18, 'name': 'Drama'}]</td>\n",
              "      <td>http://sonyclassics.com/whiplash/</td>\n",
              "      <td>tt2582802</td>\n",
              "      <td>en</td>\n",
              "      <td>Whiplash</td>\n",
              "      <td>Under the direction of a ruthless instructor, ...</td>\n",
              "      <td>64.299990</td>\n",
              "      <td>/lIv1QinFqz4dlp5U4lQ6HaiskOZ.jpg</td>\n",
              "      <td>[{'name': 'Bold Films', 'id': 2266}, {'name': ...</td>\n",
              "      <td>[{'iso_3166_1': 'US', 'name': 'United States o...</td>\n",
              "      <td>10/10/14</td>\n",
              "      <td>105.0</td>\n",
              "      <td>[{'iso_639_1': 'en', 'name': 'English'}]</td>\n",
              "      <td>Released</td>\n",
              "      <td>The road to greatness can take you to the edge.</td>\n",
              "      <td>Whiplash</td>\n",
              "      <td>[{'id': 1416, 'name': 'jazz'}, {'id': 1523, 'n...</td>\n",
              "      <td>[{'cast_id': 5, 'character': 'Andrew Neimann',...</td>\n",
              "      <td>[{'credit_id': '54d5356ec3a3683ba0000039', 'de...</td>\n",
              "      <td>13092000</td>\n",
              "    </tr>\n",
              "    <tr>\n",
              "      <th>3</th>\n",
              "      <td>4</td>\n",
              "      <td>NaN</td>\n",
              "      <td>1200000</td>\n",
              "      <td>[{'id': 53, 'name': 'Thriller'}, {'id': 18, 'n...</td>\n",
              "      <td>http://kahaanithefilm.com/</td>\n",
              "      <td>tt1821480</td>\n",
              "      <td>hi</td>\n",
              "      <td>Kahaani</td>\n",
              "      <td>Vidya Bagchi (Vidya Balan) arrives in Kolkata ...</td>\n",
              "      <td>3.174936</td>\n",
              "      <td>/aTXRaPrWSinhcmCrcfJK17urp3F.jpg</td>\n",
              "      <td>NaN</td>\n",
              "      <td>[{'iso_3166_1': 'IN', 'name': 'India'}]</td>\n",
              "      <td>3/9/12</td>\n",
              "      <td>122.0</td>\n",
              "      <td>[{'iso_639_1': 'en', 'name': 'English'}, {'iso...</td>\n",
              "      <td>Released</td>\n",
              "      <td>NaN</td>\n",
              "      <td>Kahaani</td>\n",
              "      <td>[{'id': 10092, 'name': 'mystery'}, {'id': 1054...</td>\n",
              "      <td>[{'cast_id': 1, 'character': 'Vidya Bagchi', '...</td>\n",
              "      <td>[{'credit_id': '52fe48779251416c9108d6eb', 'de...</td>\n",
              "      <td>16000000</td>\n",
              "    </tr>\n",
              "    <tr>\n",
              "      <th>4</th>\n",
              "      <td>5</td>\n",
              "      <td>NaN</td>\n",
              "      <td>0</td>\n",
              "      <td>[{'id': 28, 'name': 'Action'}, {'id': 53, 'nam...</td>\n",
              "      <td>NaN</td>\n",
              "      <td>tt1380152</td>\n",
              "      <td>ko</td>\n",
              "      <td>마린보이</td>\n",
              "      <td>Marine Boy is the story of a former national s...</td>\n",
              "      <td>1.148070</td>\n",
              "      <td>/m22s7zvkVFDU9ir56PiiqIEWFdT.jpg</td>\n",
              "      <td>NaN</td>\n",
              "      <td>[{'iso_3166_1': 'KR', 'name': 'South Korea'}]</td>\n",
              "      <td>2/5/09</td>\n",
              "      <td>118.0</td>\n",
              "      <td>[{'iso_639_1': 'ko', 'name': '한국어/조선말'}]</td>\n",
              "      <td>Released</td>\n",
              "      <td>NaN</td>\n",
              "      <td>Marine Boy</td>\n",
              "      <td>NaN</td>\n",
              "      <td>[{'cast_id': 3, 'character': 'Chun-soo', 'cred...</td>\n",
              "      <td>[{'credit_id': '52fe464b9251416c75073b43', 'de...</td>\n",
              "      <td>3923970</td>\n",
              "    </tr>\n",
              "  </tbody>\n",
              "</table>\n",
              "</div>\n",
              "      <button class=\"colab-df-convert\" onclick=\"convertToInteractive('df-39f7b043-cf11-4881-b0ce-0a06c66cce9b')\"\n",
              "              title=\"Convert this dataframe to an interactive table.\"\n",
              "              style=\"display:none;\">\n",
              "        \n",
              "  <svg xmlns=\"http://www.w3.org/2000/svg\" height=\"24px\"viewBox=\"0 0 24 24\"\n",
              "       width=\"24px\">\n",
              "    <path d=\"M0 0h24v24H0V0z\" fill=\"none\"/>\n",
              "    <path d=\"M18.56 5.44l.94 2.06.94-2.06 2.06-.94-2.06-.94-.94-2.06-.94 2.06-2.06.94zm-11 1L8.5 8.5l.94-2.06 2.06-.94-2.06-.94L8.5 2.5l-.94 2.06-2.06.94zm10 10l.94 2.06.94-2.06 2.06-.94-2.06-.94-.94-2.06-.94 2.06-2.06.94z\"/><path d=\"M17.41 7.96l-1.37-1.37c-.4-.4-.92-.59-1.43-.59-.52 0-1.04.2-1.43.59L10.3 9.45l-7.72 7.72c-.78.78-.78 2.05 0 2.83L4 21.41c.39.39.9.59 1.41.59.51 0 1.02-.2 1.41-.59l7.78-7.78 2.81-2.81c.8-.78.8-2.07 0-2.86zM5.41 20L4 18.59l7.72-7.72 1.47 1.35L5.41 20z\"/>\n",
              "  </svg>\n",
              "      </button>\n",
              "      \n",
              "  <style>\n",
              "    .colab-df-container {\n",
              "      display:flex;\n",
              "      flex-wrap:wrap;\n",
              "      gap: 12px;\n",
              "    }\n",
              "\n",
              "    .colab-df-convert {\n",
              "      background-color: #E8F0FE;\n",
              "      border: none;\n",
              "      border-radius: 50%;\n",
              "      cursor: pointer;\n",
              "      display: none;\n",
              "      fill: #1967D2;\n",
              "      height: 32px;\n",
              "      padding: 0 0 0 0;\n",
              "      width: 32px;\n",
              "    }\n",
              "\n",
              "    .colab-df-convert:hover {\n",
              "      background-color: #E2EBFA;\n",
              "      box-shadow: 0px 1px 2px rgba(60, 64, 67, 0.3), 0px 1px 3px 1px rgba(60, 64, 67, 0.15);\n",
              "      fill: #174EA6;\n",
              "    }\n",
              "\n",
              "    [theme=dark] .colab-df-convert {\n",
              "      background-color: #3B4455;\n",
              "      fill: #D2E3FC;\n",
              "    }\n",
              "\n",
              "    [theme=dark] .colab-df-convert:hover {\n",
              "      background-color: #434B5C;\n",
              "      box-shadow: 0px 1px 3px 1px rgba(0, 0, 0, 0.15);\n",
              "      filter: drop-shadow(0px 1px 2px rgba(0, 0, 0, 0.3));\n",
              "      fill: #FFFFFF;\n",
              "    }\n",
              "  </style>\n",
              "\n",
              "      <script>\n",
              "        const buttonEl =\n",
              "          document.querySelector('#df-39f7b043-cf11-4881-b0ce-0a06c66cce9b button.colab-df-convert');\n",
              "        buttonEl.style.display =\n",
              "          google.colab.kernel.accessAllowed ? 'block' : 'none';\n",
              "\n",
              "        async function convertToInteractive(key) {\n",
              "          const element = document.querySelector('#df-39f7b043-cf11-4881-b0ce-0a06c66cce9b');\n",
              "          const dataTable =\n",
              "            await google.colab.kernel.invokeFunction('convertToInteractive',\n",
              "                                                     [key], {});\n",
              "          if (!dataTable) return;\n",
              "\n",
              "          const docLinkHtml = 'Like what you see? Visit the ' +\n",
              "            '<a target=\"_blank\" href=https://colab.research.google.com/notebooks/data_table.ipynb>data table notebook</a>'\n",
              "            + ' to learn more about interactive tables.';\n",
              "          element.innerHTML = '';\n",
              "          dataTable['output_type'] = 'display_data';\n",
              "          await google.colab.output.renderOutput(dataTable, element);\n",
              "          const docLink = document.createElement('div');\n",
              "          docLink.innerHTML = docLinkHtml;\n",
              "          element.appendChild(docLink);\n",
              "        }\n",
              "      </script>\n",
              "    </div>\n",
              "  </div>\n",
              "  "
            ],
            "text/plain": [
              "   id                              belongs_to_collection    budget  \\\n",
              "0   1  [{'id': 313576, 'name': 'Hot Tub Time Machine ...  14000000   \n",
              "1   2  [{'id': 107674, 'name': 'The Princess Diaries ...  40000000   \n",
              "2   3                                                NaN   3300000   \n",
              "3   4                                                NaN   1200000   \n",
              "4   5                                                NaN         0   \n",
              "\n",
              "                                              genres  \\\n",
              "0                     [{'id': 35, 'name': 'Comedy'}]   \n",
              "1  [{'id': 35, 'name': 'Comedy'}, {'id': 18, 'nam...   \n",
              "2                      [{'id': 18, 'name': 'Drama'}]   \n",
              "3  [{'id': 53, 'name': 'Thriller'}, {'id': 18, 'n...   \n",
              "4  [{'id': 28, 'name': 'Action'}, {'id': 53, 'nam...   \n",
              "\n",
              "                            homepage    imdb_id original_language  \\\n",
              "0                                NaN  tt2637294                en   \n",
              "1                                NaN  tt0368933                en   \n",
              "2  http://sonyclassics.com/whiplash/  tt2582802                en   \n",
              "3         http://kahaanithefilm.com/  tt1821480                hi   \n",
              "4                                NaN  tt1380152                ko   \n",
              "\n",
              "                             original_title  \\\n",
              "0                    Hot Tub Time Machine 2   \n",
              "1  The Princess Diaries 2: Royal Engagement   \n",
              "2                                  Whiplash   \n",
              "3                                   Kahaani   \n",
              "4                                      마린보이   \n",
              "\n",
              "                                            overview  popularity  \\\n",
              "0  When Lou, who has become the \"father of the In...    6.575393   \n",
              "1  Mia Thermopolis is now a college graduate and ...    8.248895   \n",
              "2  Under the direction of a ruthless instructor, ...   64.299990   \n",
              "3  Vidya Bagchi (Vidya Balan) arrives in Kolkata ...    3.174936   \n",
              "4  Marine Boy is the story of a former national s...    1.148070   \n",
              "\n",
              "                        poster_path  \\\n",
              "0  /tQtWuwvMf0hCc2QR2tkolwl7c3c.jpg   \n",
              "1  /w9Z7A0GHEhIp7etpj0vyKOeU1Wx.jpg   \n",
              "2  /lIv1QinFqz4dlp5U4lQ6HaiskOZ.jpg   \n",
              "3  /aTXRaPrWSinhcmCrcfJK17urp3F.jpg   \n",
              "4  /m22s7zvkVFDU9ir56PiiqIEWFdT.jpg   \n",
              "\n",
              "                                production_companies  \\\n",
              "0  [{'name': 'Paramount Pictures', 'id': 4}, {'na...   \n",
              "1        [{'name': 'Walt Disney Pictures', 'id': 2}]   \n",
              "2  [{'name': 'Bold Films', 'id': 2266}, {'name': ...   \n",
              "3                                                NaN   \n",
              "4                                                NaN   \n",
              "\n",
              "                                production_countries release_date  runtime  \\\n",
              "0  [{'iso_3166_1': 'US', 'name': 'United States o...      2/20/15     93.0   \n",
              "1  [{'iso_3166_1': 'US', 'name': 'United States o...       8/6/04    113.0   \n",
              "2  [{'iso_3166_1': 'US', 'name': 'United States o...     10/10/14    105.0   \n",
              "3            [{'iso_3166_1': 'IN', 'name': 'India'}]       3/9/12    122.0   \n",
              "4      [{'iso_3166_1': 'KR', 'name': 'South Korea'}]       2/5/09    118.0   \n",
              "\n",
              "                                    spoken_languages    status  \\\n",
              "0           [{'iso_639_1': 'en', 'name': 'English'}]  Released   \n",
              "1           [{'iso_639_1': 'en', 'name': 'English'}]  Released   \n",
              "2           [{'iso_639_1': 'en', 'name': 'English'}]  Released   \n",
              "3  [{'iso_639_1': 'en', 'name': 'English'}, {'iso...  Released   \n",
              "4           [{'iso_639_1': 'ko', 'name': '한국어/조선말'}]  Released   \n",
              "\n",
              "                                             tagline  \\\n",
              "0  The Laws of Space and Time are About to be Vio...   \n",
              "1  It can take a lifetime to find true love; she'...   \n",
              "2    The road to greatness can take you to the edge.   \n",
              "3                                                NaN   \n",
              "4                                                NaN   \n",
              "\n",
              "                                      title  \\\n",
              "0                    Hot Tub Time Machine 2   \n",
              "1  The Princess Diaries 2: Royal Engagement   \n",
              "2                                  Whiplash   \n",
              "3                                   Kahaani   \n",
              "4                                Marine Boy   \n",
              "\n",
              "                                            Keywords  \\\n",
              "0  [{'id': 4379, 'name': 'time travel'}, {'id': 9...   \n",
              "1  [{'id': 2505, 'name': 'coronation'}, {'id': 42...   \n",
              "2  [{'id': 1416, 'name': 'jazz'}, {'id': 1523, 'n...   \n",
              "3  [{'id': 10092, 'name': 'mystery'}, {'id': 1054...   \n",
              "4                                                NaN   \n",
              "\n",
              "                                                cast  \\\n",
              "0  [{'cast_id': 4, 'character': 'Lou', 'credit_id...   \n",
              "1  [{'cast_id': 1, 'character': 'Mia Thermopolis'...   \n",
              "2  [{'cast_id': 5, 'character': 'Andrew Neimann',...   \n",
              "3  [{'cast_id': 1, 'character': 'Vidya Bagchi', '...   \n",
              "4  [{'cast_id': 3, 'character': 'Chun-soo', 'cred...   \n",
              "\n",
              "                                                crew   revenue  \n",
              "0  [{'credit_id': '59ac067c92514107af02c8c8', 'de...  12314651  \n",
              "1  [{'credit_id': '52fe43fe9251416c7502563d', 'de...  95149435  \n",
              "2  [{'credit_id': '54d5356ec3a3683ba0000039', 'de...  13092000  \n",
              "3  [{'credit_id': '52fe48779251416c9108d6eb', 'de...  16000000  \n",
              "4  [{'credit_id': '52fe464b9251416c75073b43', 'de...   3923970  "
            ]
          },
          "execution_count": 9,
          "metadata": {},
          "output_type": "execute_result"
        }
      ],
      "source": [
        "train.head()"
      ]
    },
    {
      "cell_type": "code",
      "execution_count": null,
      "metadata": {
        "colab": {
          "base_uri": "https://localhost:8080/"
        },
        "id": "SehU6bVMWXAK",
        "outputId": "8df1f915-1dba-433d-a0a5-174f33972edc"
      },
      "outputs": [
        {
          "data": {
            "text/plain": [
              "0       [{'id': 313576, 'name': 'Hot Tub Time Machine ...\n",
              "1       [{'id': 107674, 'name': 'The Princess Diaries ...\n",
              "2                                                     NaN\n",
              "3                                                     NaN\n",
              "4                                                     NaN\n",
              "                              ...                        \n",
              "2995                                                  NaN\n",
              "2996                                                  NaN\n",
              "2997                                                  NaN\n",
              "2998                                                  NaN\n",
              "2999                                                  NaN\n",
              "Name: belongs_to_collection, Length: 3000, dtype: object"
            ]
          },
          "execution_count": 10,
          "metadata": {},
          "output_type": "execute_result"
        }
      ],
      "source": [
        "train['belongs_to_collection']"
      ]
    },
    {
      "cell_type": "code",
      "execution_count": null,
      "metadata": {
        "colab": {
          "base_uri": "https://localhost:8080/"
        },
        "id": "0a87504c",
        "outputId": "625a872b-9dae-45ce-dc94-ee694b8b4886",
        "scrolled": false
      },
      "outputs": [
        {
          "data": {
            "text/plain": [
              "(3000, 23)"
            ]
          },
          "execution_count": 11,
          "metadata": {},
          "output_type": "execute_result"
        }
      ],
      "source": [
        "train.shape"
      ]
    },
    {
      "cell_type": "code",
      "execution_count": null,
      "metadata": {
        "colab": {
          "base_uri": "https://localhost:8080/"
        },
        "id": "075a4c90",
        "outputId": "b47b00b7-1e8f-4c2e-b360-e36a6c070070"
      },
      "outputs": [
        {
          "data": {
            "text/plain": [
              "(4398, 22)"
            ]
          },
          "execution_count": 12,
          "metadata": {},
          "output_type": "execute_result"
        }
      ],
      "source": [
        "test.shape"
      ]
    },
    {
      "cell_type": "markdown",
      "metadata": {
        "id": "8d993f86"
      },
      "source": [
        "I think we can drop the poster path"
      ]
    },
    {
      "cell_type": "code",
      "execution_count": null,
      "metadata": {
        "id": "06fe672e"
      },
      "outputs": [],
      "source": [
        "train = train.drop(['poster_path'],axis = 1)\n",
        "test = test.drop(['poster_path'],axis = 1)"
      ]
    },
    {
      "cell_type": "code",
      "execution_count": null,
      "metadata": {
        "id": "q7mjB2PQJQMn"
      },
      "outputs": [],
      "source": []
    },
    {
      "cell_type": "markdown",
      "metadata": {
        "id": "36d4adaf"
      },
      "source": [
        "The discussion section has the data which was missing or wrong in the real data set "
      ]
    },
    {
      "cell_type": "code",
      "execution_count": null,
      "metadata": {
        "id": "bb1a9946"
      },
      "outputs": [],
      "source": [
        "train.loc[train['id'] == 16,'revenue'] = 192864          # Skinning\n",
        "train.loc[train['id'] == 90,'budget'] = 30000000         # Sommersby          \n",
        "train.loc[train['id'] == 118,'budget'] = 60000000        # Wild Hogs\n",
        "train.loc[train['id'] == 149,'budget'] = 18000000        # Beethoven\n",
        "train.loc[train['id'] == 313,'revenue'] = 12000000       # The Cookout \n",
        "train.loc[train['id'] == 451,'revenue'] = 12000000       # Chasing Liberty\n",
        "train.loc[train['id'] == 464,'budget'] = 20000000        # Parenthood\n",
        "train.loc[train['id'] == 470,'budget'] = 13000000        # The Karate Kid, Part II\n",
        "train.loc[train['id'] == 513,'budget'] = 930000          # From Prada to Nada\n",
        "train.loc[train['id'] == 797,'budget'] = 8000000         # Welcome to Dongmakgol\n",
        "train.loc[train['id'] == 819,'budget'] = 90000000        # Alvin and the Chipmunks: The Road Chip\n",
        "train.loc[train['id'] == 850,'budget'] = 90000000        # Modern Times\n",
        "train.loc[train['id'] == 1007,'budget'] = 2              # Zyzzyx Road \n",
        "train.loc[train['id'] == 1112,'budget'] = 7500000        # An Officer and a Gentleman\n",
        "train.loc[train['id'] == 1131,'budget'] = 4300000        # Smokey and the Bandit   \n",
        "train.loc[train['id'] == 1359,'budget'] = 10000000       # Stir Crazy \n",
        "train.loc[train['id'] == 1542,'budget'] = 1              # All at Once\n",
        "train.loc[train['id'] == 1570,'budget'] = 15800000       # Crocodile Dundee II\n",
        "train.loc[train['id'] == 1571,'budget'] = 4000000        # Lady and the Tramp\n",
        "train.loc[train['id'] == 1714,'budget'] = 46000000       # The Recruit\n",
        "train.loc[train['id'] == 1721,'budget'] = 17500000       # Cocoon\n",
        "train.loc[train['id'] == 1865,'revenue'] = 25000000      # Scooby-Doo 2: Monsters Unleashed\n",
        "train.loc[train['id'] == 1885,'budget'] = 12             # In the Cut\n",
        "train.loc[train['id'] == 2091,'budget'] = 10             # Deadfall\n",
        "train.loc[train['id'] == 2268,'budget'] = 17500000       # Madea Goes to Jail budget\n",
        "train.loc[train['id'] == 2491,'budget'] = 6              # Never Talk to Strangers\n",
        "train.loc[train['id'] == 2602,'budget'] = 31000000       # Mr. Holland's Opus\n",
        "train.loc[train['id'] == 2612,'budget'] = 15000000       # Field of Dreams\n",
        "train.loc[train['id'] == 2696,'budget'] = 10000000       # Nurse 3-D\n",
        "train.loc[train['id'] == 2801,'budget'] = 10000000       # Fracture\n",
        "train.loc[train['id'] == 335,'budget'] = 2 \n",
        "train.loc[train['id'] == 348,'budget'] = 12\n",
        "train.loc[train['id'] == 470,'budget'] = 13000000 \n",
        "train.loc[train['id'] == 513,'budget'] = 1100000\n",
        "train.loc[train['id'] == 640,'budget'] = 6 \n",
        "train.loc[train['id'] == 696,'budget'] = 1\n",
        "train.loc[train['id'] == 797,'budget'] = 8000000 \n",
        "train.loc[train['id'] == 850,'budget'] = 1500000\n",
        "train.loc[train['id'] == 1199,'budget'] = 5 \n",
        "train.loc[train['id'] == 1282,'budget'] = 9               # Death at a Funeral\n",
        "train.loc[train['id'] == 1347,'budget'] = 1\n",
        "train.loc[train['id'] == 1755,'budget'] = 2\n",
        "train.loc[train['id'] == 1801,'budget'] = 5\n",
        "train.loc[train['id'] == 1918,'budget'] = 592 \n",
        "train.loc[train['id'] == 2033,'budget'] = 4\n",
        "train.loc[train['id'] == 2118,'budget'] = 344 \n",
        "train.loc[train['id'] == 2252,'budget'] = 130\n",
        "train.loc[train['id'] == 2256,'budget'] = 1 \n",
        "train.loc[train['id'] == 2696,'budget'] = 10000000\n",
        "\n",
        "\n",
        "test.loc[test['id'] == 6733,'budget'] = 5000000\n",
        "test.loc[test['id'] == 3889,'budget'] = 15000000\n",
        "test.loc[test['id'] == 6683,'budget'] = 50000000\n",
        "test.loc[test['id'] == 5704,'budget'] = 4300000\n",
        "test.loc[test['id'] == 6109,'budget'] = 281756\n",
        "test.loc[test['id'] == 7242,'budget'] = 10000000\n",
        "test.loc[test['id'] == 7021,'budget'] = 17540562       #  Two Is a Family\n",
        "test.loc[test['id'] == 5591,'budget'] = 4000000        # The Orphanage\n",
        "test.loc[test['id'] == 4282,'budget'] = 20000000       # Big Top Pee-wee\n",
        "test.loc[test['id'] == 3033,'budget'] = 250 \n",
        "test.loc[test['id'] == 3051,'budget'] = 50\n",
        "test.loc[test['id'] == 3084,'budget'] = 337\n",
        "test.loc[test['id'] == 3224,'budget'] = 4  \n",
        "test.loc[test['id'] == 3594,'budget'] = 25  \n",
        "test.loc[test['id'] == 3619,'budget'] = 500  \n",
        "test.loc[test['id'] == 3831,'budget'] = 3  \n",
        "test.loc[test['id'] == 3935,'budget'] = 500  \n",
        "test.loc[test['id'] == 4049,'budget'] = 995946 \n",
        "test.loc[test['id'] == 4424,'budget'] = 3  \n",
        "test.loc[test['id'] == 4460,'budget'] = 8  \n",
        "test.loc[test['id'] == 4555,'budget'] = 1200000 \n",
        "test.loc[test['id'] == 4624,'budget'] = 30 \n",
        "test.loc[test['id'] == 4645,'budget'] = 500 \n",
        "test.loc[test['id'] == 4709,'budget'] = 450 \n",
        "test.loc[test['id'] == 4839,'budget'] = 7\n",
        "test.loc[test['id'] == 3125,'budget'] = 25 \n",
        "test.loc[test['id'] == 3142,'budget'] = 1\n",
        "test.loc[test['id'] == 3201,'budget'] = 450\n",
        "test.loc[test['id'] == 3222,'budget'] = 6\n",
        "test.loc[test['id'] == 3545,'budget'] = 38\n",
        "test.loc[test['id'] == 3670,'budget'] = 18\n",
        "test.loc[test['id'] == 3792,'budget'] = 19\n",
        "test.loc[test['id'] == 3881,'budget'] = 7\n",
        "test.loc[test['id'] == 3969,'budget'] = 400\n",
        "test.loc[test['id'] == 4196,'budget'] = 6\n",
        "test.loc[test['id'] == 4221,'budget'] = 11\n",
        "test.loc[test['id'] == 4222,'budget'] = 500\n",
        "test.loc[test['id'] == 4285,'budget'] = 11\n",
        "test.loc[test['id'] == 4319,'budget'] = 1\n",
        "test.loc[test['id'] == 4639,'budget'] = 10\n",
        "test.loc[test['id'] == 4719,'budget'] = 45\n",
        "test.loc[test['id'] == 4822,'budget'] = 22\n",
        "test.loc[test['id'] == 4829,'budget'] = 20\n",
        "test.loc[test['id'] == 4969,'budget'] = 20\n",
        "test.loc[test['id'] == 5021,'budget'] = 40 \n",
        "test.loc[test['id'] == 5035,'budget'] = 1 \n",
        "test.loc[test['id'] == 5063,'budget'] = 14 \n",
        "test.loc[test['id'] == 5119,'budget'] = 2 \n",
        "test.loc[test['id'] == 5214,'budget'] = 30 \n",
        "test.loc[test['id'] == 5221,'budget'] = 50 \n",
        "test.loc[test['id'] == 4903,'budget'] = 15\n",
        "test.loc[test['id'] == 4983,'budget'] = 3\n",
        "test.loc[test['id'] == 5102,'budget'] = 28\n",
        "test.loc[test['id'] == 5217,'budget'] = 75\n",
        "test.loc[test['id'] == 5224,'budget'] = 3 \n",
        "test.loc[test['id'] == 5469,'budget'] = 20 \n",
        "test.loc[test['id'] == 5840,'budget'] = 1 \n",
        "test.loc[test['id'] == 5960,'budget'] = 30\n",
        "test.loc[test['id'] == 6506,'budget'] = 11 \n",
        "test.loc[test['id'] == 6553,'budget'] = 280\n",
        "test.loc[test['id'] == 6561,'budget'] = 7\n",
        "test.loc[test['id'] == 6582,'budget'] = 218\n",
        "test.loc[test['id'] == 6638,'budget'] = 5\n",
        "test.loc[test['id'] == 6749,'budget'] = 8 \n",
        "test.loc[test['id'] == 6759,'budget'] = 50 \n",
        "test.loc[test['id'] == 6856,'budget'] = 10\n",
        "test.loc[test['id'] == 6858,'budget'] =  100\n",
        "test.loc[test['id'] == 6876,'budget'] =  250\n",
        "test.loc[test['id'] == 6972,'budget'] = 1\n",
        "test.loc[test['id'] == 7079,'budget'] = 8000000\n",
        "test.loc[test['id'] == 7150,'budget'] = 118\n",
        "test.loc[test['id'] == 6506,'budget'] = 118\n",
        "test.loc[test['id'] == 7225,'budget'] = 6\n",
        "test.loc[test['id'] == 7231,'budget'] = 85\n",
        "test.loc[test['id'] == 5222,'budget'] = 5\n",
        "test.loc[test['id'] == 5322,'budget'] = 90\n",
        "test.loc[test['id'] == 5350,'budget'] = 70\n",
        "test.loc[test['id'] == 5378,'budget'] = 10\n",
        "test.loc[test['id'] == 5545,'budget'] = 80\n",
        "test.loc[test['id'] == 5810,'budget'] = 8\n",
        "test.loc[test['id'] == 5926,'budget'] = 300\n",
        "test.loc[test['id'] == 5927,'budget'] = 4\n",
        "test.loc[test['id'] == 5986,'budget'] = 1\n",
        "test.loc[test['id'] == 6053,'budget'] = 20\n",
        "test.loc[test['id'] == 6104,'budget'] = 1\n",
        "test.loc[test['id'] == 6130,'budget'] = 30\n",
        "test.loc[test['id'] == 6301,'budget'] = 150\n",
        "test.loc[test['id'] == 6276,'budget'] = 100\n",
        "test.loc[test['id'] == 6473,'budget'] = 100\n",
        "test.loc[test['id'] == 6842,'budget'] = 30\n",
        "test.loc[test['id'] == 3829,'release_date'] = '05/01/2000'"
      ]
    },
    {
      "cell_type": "code",
      "execution_count": null,
      "metadata": {
        "colab": {
          "base_uri": "https://localhost:8080/",
          "height": 468
        },
        "id": "d6703c64",
        "outputId": "87bd51fb-6627-42a4-debb-04d681bd96e3"
      },
      "outputs": [
        {
          "data": {
            "text/html": [
              "\n",
              "  <div id=\"df-c84a510a-91ac-4095-b545-0040b8d5dcde\">\n",
              "    <div class=\"colab-df-container\">\n",
              "      <div>\n",
              "<style scoped>\n",
              "    .dataframe tbody tr th:only-of-type {\n",
              "        vertical-align: middle;\n",
              "    }\n",
              "\n",
              "    .dataframe tbody tr th {\n",
              "        vertical-align: top;\n",
              "    }\n",
              "\n",
              "    .dataframe thead th {\n",
              "        text-align: right;\n",
              "    }\n",
              "</style>\n",
              "<table border=\"1\" class=\"dataframe\">\n",
              "  <thead>\n",
              "    <tr style=\"text-align: right;\">\n",
              "      <th></th>\n",
              "      <th>id</th>\n",
              "      <th>belongs_to_collection</th>\n",
              "      <th>budget</th>\n",
              "      <th>genres</th>\n",
              "      <th>homepage</th>\n",
              "      <th>imdb_id</th>\n",
              "      <th>original_language</th>\n",
              "      <th>original_title</th>\n",
              "      <th>overview</th>\n",
              "      <th>popularity</th>\n",
              "      <th>production_companies</th>\n",
              "      <th>production_countries</th>\n",
              "      <th>release_date</th>\n",
              "      <th>runtime</th>\n",
              "      <th>spoken_languages</th>\n",
              "      <th>status</th>\n",
              "      <th>tagline</th>\n",
              "      <th>title</th>\n",
              "      <th>Keywords</th>\n",
              "      <th>cast</th>\n",
              "      <th>crew</th>\n",
              "    </tr>\n",
              "  </thead>\n",
              "  <tbody>\n",
              "    <tr>\n",
              "      <th>0</th>\n",
              "      <td>3001</td>\n",
              "      <td>[{'id': 34055, 'name': 'Pokémon Collection', '...</td>\n",
              "      <td>0</td>\n",
              "      <td>[{'id': 12, 'name': 'Adventure'}, {'id': 16, '...</td>\n",
              "      <td>http://www.pokemon.com/us/movies/movie-pokemon...</td>\n",
              "      <td>tt1226251</td>\n",
              "      <td>ja</td>\n",
              "      <td>ディアルガVSパルキアVSダークライ</td>\n",
              "      <td>Ash and friends (this time accompanied by newc...</td>\n",
              "      <td>3.851534</td>\n",
              "      <td>NaN</td>\n",
              "      <td>[{'iso_3166_1': 'JP', 'name': 'Japan'}, {'iso_...</td>\n",
              "      <td>7/14/07</td>\n",
              "      <td>90.0</td>\n",
              "      <td>[{'iso_639_1': 'en', 'name': 'English'}, {'iso...</td>\n",
              "      <td>Released</td>\n",
              "      <td>Somewhere Between Time &amp; Space... A Legend Is ...</td>\n",
              "      <td>Pokémon: The Rise of Darkrai</td>\n",
              "      <td>[{'id': 11451, 'name': 'pok√©mon'}, {'id': 115...</td>\n",
              "      <td>[{'cast_id': 3, 'character': 'Tonio', 'credit_...</td>\n",
              "      <td>[{'credit_id': '52fe44e7c3a368484e03d683', 'de...</td>\n",
              "    </tr>\n",
              "    <tr>\n",
              "      <th>1</th>\n",
              "      <td>3002</td>\n",
              "      <td>NaN</td>\n",
              "      <td>88000</td>\n",
              "      <td>[{'id': 27, 'name': 'Horror'}, {'id': 878, 'na...</td>\n",
              "      <td>NaN</td>\n",
              "      <td>tt0051380</td>\n",
              "      <td>en</td>\n",
              "      <td>Attack of the 50 Foot Woman</td>\n",
              "      <td>When an abused wife grows to giant size becaus...</td>\n",
              "      <td>3.559789</td>\n",
              "      <td>[{'name': 'Woolner Brothers Pictures Inc.', 'i...</td>\n",
              "      <td>[{'iso_3166_1': 'US', 'name': 'United States o...</td>\n",
              "      <td>5/19/58</td>\n",
              "      <td>65.0</td>\n",
              "      <td>[{'iso_639_1': 'en', 'name': 'English'}]</td>\n",
              "      <td>Released</td>\n",
              "      <td>A titanic beauty spreads a macabre wave of hor...</td>\n",
              "      <td>Attack of the 50 Foot Woman</td>\n",
              "      <td>[{'id': 9748, 'name': 'revenge'}, {'id': 9951,...</td>\n",
              "      <td>[{'cast_id': 2, 'character': 'Nancy Fowler Arc...</td>\n",
              "      <td>[{'credit_id': '55807805c3a3685b1300060b', 'de...</td>\n",
              "    </tr>\n",
              "    <tr>\n",
              "      <th>2</th>\n",
              "      <td>3003</td>\n",
              "      <td>NaN</td>\n",
              "      <td>0</td>\n",
              "      <td>[{'id': 35, 'name': 'Comedy'}, {'id': 10749, '...</td>\n",
              "      <td>NaN</td>\n",
              "      <td>tt0118556</td>\n",
              "      <td>en</td>\n",
              "      <td>Addicted to Love</td>\n",
              "      <td>Good-natured astronomer Sam is devastated when...</td>\n",
              "      <td>8.085194</td>\n",
              "      <td>[{'name': 'Warner Bros.', 'id': 6194}, {'name'...</td>\n",
              "      <td>[{'iso_3166_1': 'US', 'name': 'United States o...</td>\n",
              "      <td>5/23/97</td>\n",
              "      <td>100.0</td>\n",
              "      <td>[{'iso_639_1': 'en', 'name': 'English'}]</td>\n",
              "      <td>Released</td>\n",
              "      <td>A Comedy About Lost Loves And Last Laughs</td>\n",
              "      <td>Addicted to Love</td>\n",
              "      <td>[{'id': 931, 'name': 'jealousy'}, {'id': 9673,...</td>\n",
              "      <td>[{'cast_id': 11, 'character': 'Maggie', 'credi...</td>\n",
              "      <td>[{'credit_id': '52fe4330c3a36847f8041367', 'de...</td>\n",
              "    </tr>\n",
              "  </tbody>\n",
              "</table>\n",
              "</div>\n",
              "      <button class=\"colab-df-convert\" onclick=\"convertToInteractive('df-c84a510a-91ac-4095-b545-0040b8d5dcde')\"\n",
              "              title=\"Convert this dataframe to an interactive table.\"\n",
              "              style=\"display:none;\">\n",
              "        \n",
              "  <svg xmlns=\"http://www.w3.org/2000/svg\" height=\"24px\"viewBox=\"0 0 24 24\"\n",
              "       width=\"24px\">\n",
              "    <path d=\"M0 0h24v24H0V0z\" fill=\"none\"/>\n",
              "    <path d=\"M18.56 5.44l.94 2.06.94-2.06 2.06-.94-2.06-.94-.94-2.06-.94 2.06-2.06.94zm-11 1L8.5 8.5l.94-2.06 2.06-.94-2.06-.94L8.5 2.5l-.94 2.06-2.06.94zm10 10l.94 2.06.94-2.06 2.06-.94-2.06-.94-.94-2.06-.94 2.06-2.06.94z\"/><path d=\"M17.41 7.96l-1.37-1.37c-.4-.4-.92-.59-1.43-.59-.52 0-1.04.2-1.43.59L10.3 9.45l-7.72 7.72c-.78.78-.78 2.05 0 2.83L4 21.41c.39.39.9.59 1.41.59.51 0 1.02-.2 1.41-.59l7.78-7.78 2.81-2.81c.8-.78.8-2.07 0-2.86zM5.41 20L4 18.59l7.72-7.72 1.47 1.35L5.41 20z\"/>\n",
              "  </svg>\n",
              "      </button>\n",
              "      \n",
              "  <style>\n",
              "    .colab-df-container {\n",
              "      display:flex;\n",
              "      flex-wrap:wrap;\n",
              "      gap: 12px;\n",
              "    }\n",
              "\n",
              "    .colab-df-convert {\n",
              "      background-color: #E8F0FE;\n",
              "      border: none;\n",
              "      border-radius: 50%;\n",
              "      cursor: pointer;\n",
              "      display: none;\n",
              "      fill: #1967D2;\n",
              "      height: 32px;\n",
              "      padding: 0 0 0 0;\n",
              "      width: 32px;\n",
              "    }\n",
              "\n",
              "    .colab-df-convert:hover {\n",
              "      background-color: #E2EBFA;\n",
              "      box-shadow: 0px 1px 2px rgba(60, 64, 67, 0.3), 0px 1px 3px 1px rgba(60, 64, 67, 0.15);\n",
              "      fill: #174EA6;\n",
              "    }\n",
              "\n",
              "    [theme=dark] .colab-df-convert {\n",
              "      background-color: #3B4455;\n",
              "      fill: #D2E3FC;\n",
              "    }\n",
              "\n",
              "    [theme=dark] .colab-df-convert:hover {\n",
              "      background-color: #434B5C;\n",
              "      box-shadow: 0px 1px 3px 1px rgba(0, 0, 0, 0.15);\n",
              "      filter: drop-shadow(0px 1px 2px rgba(0, 0, 0, 0.3));\n",
              "      fill: #FFFFFF;\n",
              "    }\n",
              "  </style>\n",
              "\n",
              "      <script>\n",
              "        const buttonEl =\n",
              "          document.querySelector('#df-c84a510a-91ac-4095-b545-0040b8d5dcde button.colab-df-convert');\n",
              "        buttonEl.style.display =\n",
              "          google.colab.kernel.accessAllowed ? 'block' : 'none';\n",
              "\n",
              "        async function convertToInteractive(key) {\n",
              "          const element = document.querySelector('#df-c84a510a-91ac-4095-b545-0040b8d5dcde');\n",
              "          const dataTable =\n",
              "            await google.colab.kernel.invokeFunction('convertToInteractive',\n",
              "                                                     [key], {});\n",
              "          if (!dataTable) return;\n",
              "\n",
              "          const docLinkHtml = 'Like what you see? Visit the ' +\n",
              "            '<a target=\"_blank\" href=https://colab.research.google.com/notebooks/data_table.ipynb>data table notebook</a>'\n",
              "            + ' to learn more about interactive tables.';\n",
              "          element.innerHTML = '';\n",
              "          dataTable['output_type'] = 'display_data';\n",
              "          await google.colab.output.renderOutput(dataTable, element);\n",
              "          const docLink = document.createElement('div');\n",
              "          docLink.innerHTML = docLinkHtml;\n",
              "          element.appendChild(docLink);\n",
              "        }\n",
              "      </script>\n",
              "    </div>\n",
              "  </div>\n",
              "  "
            ],
            "text/plain": [
              "     id                              belongs_to_collection  budget  \\\n",
              "0  3001  [{'id': 34055, 'name': 'Pokémon Collection', '...       0   \n",
              "1  3002                                                NaN   88000   \n",
              "2  3003                                                NaN       0   \n",
              "\n",
              "                                              genres  \\\n",
              "0  [{'id': 12, 'name': 'Adventure'}, {'id': 16, '...   \n",
              "1  [{'id': 27, 'name': 'Horror'}, {'id': 878, 'na...   \n",
              "2  [{'id': 35, 'name': 'Comedy'}, {'id': 10749, '...   \n",
              "\n",
              "                                            homepage    imdb_id  \\\n",
              "0  http://www.pokemon.com/us/movies/movie-pokemon...  tt1226251   \n",
              "1                                                NaN  tt0051380   \n",
              "2                                                NaN  tt0118556   \n",
              "\n",
              "  original_language               original_title  \\\n",
              "0                ja           ディアルガVSパルキアVSダークライ   \n",
              "1                en  Attack of the 50 Foot Woman   \n",
              "2                en             Addicted to Love   \n",
              "\n",
              "                                            overview  popularity  \\\n",
              "0  Ash and friends (this time accompanied by newc...    3.851534   \n",
              "1  When an abused wife grows to giant size becaus...    3.559789   \n",
              "2  Good-natured astronomer Sam is devastated when...    8.085194   \n",
              "\n",
              "                                production_companies  \\\n",
              "0                                                NaN   \n",
              "1  [{'name': 'Woolner Brothers Pictures Inc.', 'i...   \n",
              "2  [{'name': 'Warner Bros.', 'id': 6194}, {'name'...   \n",
              "\n",
              "                                production_countries release_date  runtime  \\\n",
              "0  [{'iso_3166_1': 'JP', 'name': 'Japan'}, {'iso_...      7/14/07     90.0   \n",
              "1  [{'iso_3166_1': 'US', 'name': 'United States o...      5/19/58     65.0   \n",
              "2  [{'iso_3166_1': 'US', 'name': 'United States o...      5/23/97    100.0   \n",
              "\n",
              "                                    spoken_languages    status  \\\n",
              "0  [{'iso_639_1': 'en', 'name': 'English'}, {'iso...  Released   \n",
              "1           [{'iso_639_1': 'en', 'name': 'English'}]  Released   \n",
              "2           [{'iso_639_1': 'en', 'name': 'English'}]  Released   \n",
              "\n",
              "                                             tagline  \\\n",
              "0  Somewhere Between Time & Space... A Legend Is ...   \n",
              "1  A titanic beauty spreads a macabre wave of hor...   \n",
              "2          A Comedy About Lost Loves And Last Laughs   \n",
              "\n",
              "                          title  \\\n",
              "0  Pokémon: The Rise of Darkrai   \n",
              "1   Attack of the 50 Foot Woman   \n",
              "2              Addicted to Love   \n",
              "\n",
              "                                            Keywords  \\\n",
              "0  [{'id': 11451, 'name': 'pok√©mon'}, {'id': 115...   \n",
              "1  [{'id': 9748, 'name': 'revenge'}, {'id': 9951,...   \n",
              "2  [{'id': 931, 'name': 'jealousy'}, {'id': 9673,...   \n",
              "\n",
              "                                                cast  \\\n",
              "0  [{'cast_id': 3, 'character': 'Tonio', 'credit_...   \n",
              "1  [{'cast_id': 2, 'character': 'Nancy Fowler Arc...   \n",
              "2  [{'cast_id': 11, 'character': 'Maggie', 'credi...   \n",
              "\n",
              "                                                crew  \n",
              "0  [{'credit_id': '52fe44e7c3a368484e03d683', 'de...  \n",
              "1  [{'credit_id': '55807805c3a3685b1300060b', 'de...  \n",
              "2  [{'credit_id': '52fe4330c3a36847f8041367', 'de...  "
            ]
          },
          "execution_count": 15,
          "metadata": {},
          "output_type": "execute_result"
        }
      ],
      "source": [
        "test.head(3)"
      ]
    },
    {
      "cell_type": "markdown",
      "metadata": {
        "id": "edcc9cee"
      },
      "source": [
        "Counting  missing values"
      ]
    },
    {
      "cell_type": "code",
      "execution_count": null,
      "metadata": {
        "colab": {
          "base_uri": "https://localhost:8080/"
        },
        "id": "74e9e031",
        "outputId": "4ee16e1a-6d59-43a5-dd76-62d613cefcf1"
      },
      "outputs": [
        {
          "data": {
            "text/plain": [
              "id                          0\n",
              "belongs_to_collection    2396\n",
              "budget                      0\n",
              "genres                      7\n",
              "homepage                 2054\n",
              "imdb_id                     0\n",
              "original_language           0\n",
              "original_title              0\n",
              "overview                    8\n",
              "popularity                  0\n",
              "production_companies      156\n",
              "production_countries       55\n",
              "release_date                0\n",
              "runtime                     2\n",
              "spoken_languages           20\n",
              "status                      0\n",
              "tagline                   597\n",
              "title                       0\n",
              "Keywords                  276\n",
              "cast                       13\n",
              "crew                       16\n",
              "revenue                     0\n",
              "dtype: int64"
            ]
          },
          "execution_count": 16,
          "metadata": {},
          "output_type": "execute_result"
        }
      ],
      "source": [
        "train.isna().sum()"
      ]
    },
    {
      "cell_type": "code",
      "execution_count": null,
      "metadata": {
        "colab": {
          "base_uri": "https://localhost:8080/"
        },
        "id": "bec9153e",
        "outputId": "7c9a1b96-21ea-4a94-9917-6fae8046a5a7"
      },
      "outputs": [
        {
          "data": {
            "text/plain": [
              "id                          0\n",
              "belongs_to_collection    3521\n",
              "budget                      0\n",
              "genres                     16\n",
              "homepage                 2978\n",
              "imdb_id                     0\n",
              "original_language           0\n",
              "original_title              0\n",
              "overview                   14\n",
              "popularity                  0\n",
              "production_companies      258\n",
              "production_countries      102\n",
              "release_date                0\n",
              "runtime                     4\n",
              "spoken_languages           42\n",
              "status                      2\n",
              "tagline                   863\n",
              "title                       3\n",
              "Keywords                  393\n",
              "cast                       13\n",
              "crew                       22\n",
              "dtype: int64"
            ]
          },
          "execution_count": 17,
          "metadata": {},
          "output_type": "execute_result"
        }
      ],
      "source": [
        "test.isna().sum()"
      ]
    },
    {
      "cell_type": "markdown",
      "metadata": {
        "id": "3d55b6b6"
      },
      "source": [
        "converting strings to dictionary"
      ]
    },
    {
      "cell_type": "code",
      "execution_count": null,
      "metadata": {
        "id": "0255ddb5"
      },
      "outputs": [],
      "source": [
        "dict_columns = ['belongs_to_collection', 'genres', 'production_companies',\n",
        "                'production_countries', 'spoken_languages', 'Keywords', 'cast', 'crew']\n",
        "\n",
        "def text_to_dict(df):\n",
        "    for column in dict_columns:\n",
        "        df[column] = df[column].apply(lambda x: {} if pd.isna(x) else ast.literal_eval(x) )\n",
        "    return df\n",
        "        \n",
        "train = text_to_dict(train)\n",
        "test = text_to_dict(test)"
      ]
    },
    {
      "cell_type": "markdown",
      "metadata": {
        "id": "d71b9a0c"
      },
      "source": [
        "Imputing the missing values for 'runtime' by the average values in the dataset."
      ]
    },
    {
      "cell_type": "code",
      "execution_count": null,
      "metadata": {
        "id": "b6c7254b"
      },
      "outputs": [],
      "source": [
        "train['runtime']=train['runtime'].fillna(train['runtime'].mean())\n",
        "test['runtime']=test['runtime'].fillna(test['runtime'].mean())"
      ]
    },
    {
      "cell_type": "code",
      "execution_count": null,
      "metadata": {
        "id": "7840c899"
      },
      "outputs": [],
      "source": [
        "sns.jointplot(x='budget',y='revenue',data = train,kind = 'reg', height=11, ratio=4,joint_kws = {'ci' : None});"
      ]
    },
    {
      "cell_type": "code",
      "execution_count": null,
      "metadata": {
        "id": "65e5a20d"
      },
      "outputs": [],
      "source": [
        "sns.jointplot(x='popularity',y='revenue',data = train, height=11, ratio=4, kind = 'reg', joint_kws = {'ci' : None});"
      ]
    },
    {
      "cell_type": "code",
      "execution_count": null,
      "metadata": {
        "id": "257a04eb"
      },
      "outputs": [],
      "source": [
        "sns.jointplot(x=\"runtime\", y=\"revenue\", data=train, height=11, ratio=4, kind = 'reg', joint_kws = {'ci' : None});"
      ]
    },
    {
      "cell_type": "markdown",
      "metadata": {
        "id": "fc1c7f93"
      },
      "source": [
        "People like to watch movies which have moderate runtime neither too high nor too low"
      ]
    },
    {
      "cell_type": "code",
      "execution_count": null,
      "metadata": {
        "id": "a868598c"
      },
      "outputs": [],
      "source": [
        "sns.distplot(train.revenue)"
      ]
    },
    {
      "cell_type": "code",
      "execution_count": null,
      "metadata": {
        "id": "e1ec66a7"
      },
      "outputs": [],
      "source": [
        "test['budget']=np.log1p(test['budget'])\n",
        "train['budget']=np.log1p(train['budget'])\n",
        "\n",
        "train['revenue']=np.log1p(train['revenue'])"
      ]
    },
    {
      "cell_type": "code",
      "execution_count": null,
      "metadata": {
        "id": "cc35e7aa"
      },
      "outputs": [],
      "source": [
        "sns.distplot(train.revenue)"
      ]
    },
    {
      "cell_type": "code",
      "execution_count": null,
      "metadata": {
        "id": "0f28276f"
      },
      "outputs": [],
      "source": [
        "# splitting the 'release_date' string to month, date and year\n",
        "train[['release_month','release_day','release_year']]=train['release_date'].str.split('/',expand=True).replace(np.nan, -1).astype(int)\n",
        "# the dataset consists of data from 1900s to 2017 \n",
        "# so since we are only goven the year in 2 digits we add the respective centuries (eg : 12 -> 2012 )\n",
        "\n",
        "train.loc[ (train['release_year'] <= 20) & (train['release_year'] < 100), \"release_year\"] += 2000\n",
        "# eg: 75 -> 1975\n",
        "train.loc[ (train['release_year'] > 20)  & (train['release_year'] < 100), \"release_year\"] += 1900\n",
        "# getting the day of week and quarter of the year\n",
        "releaseDate = pd.to_datetime(train['release_date']) \n",
        "train['release_dayofweek'] = releaseDate.dt.dayofweek\n",
        "train['release_quarter'] = releaseDate.dt.quarter"
      ]
    },
    {
      "cell_type": "code",
      "execution_count": null,
      "metadata": {
        "id": "989f637d"
      },
      "outputs": [],
      "source": [
        "# same for the test set\n",
        "test[['release_month','release_day','release_year']]=test['release_date'].str.split('/',expand=True).replace(np.nan, -1).astype(int)\n",
        "test.loc[ (test['release_year'] <= 20) & (test['release_year'] < 100), \"release_year\"] += 2000\n",
        "test.loc[ (test['release_year'] > 20)  & (test['release_year'] < 100), \"release_year\"] += 1900\n",
        "releaseDate = pd.to_datetime(test['release_date']) \n",
        "test['release_dayofweek'] = releaseDate.dt.dayofweek\n",
        "test['release_quarter'] = releaseDate.dt.quarter"
      ]
    },
    {
      "cell_type": "code",
      "execution_count": null,
      "metadata": {
        "id": "aefd95fa"
      },
      "outputs": [],
      "source": [
        "plt.figure(figsize = (18,12))\n",
        "year_counts = train['release_year'].value_counts()\n",
        "\n",
        "years_sorted = sorted(year_counts.index)\n",
        "sns.countplot(x='release_year', data=train, order=years_sorted)\n",
        "plt.title(\"Movie releases by year\")\n",
        "plt.xticks(fontsize=12,rotation=90)\n",
        "plt.show()"
      ]
    },
    {
      "cell_type": "code",
      "execution_count": null,
      "metadata": {
        "id": "50905a17"
      },
      "outputs": [],
      "source": [
        "plt.figure(figsize=(18,12))\n",
        "year_counts = train['release_month'].value_counts()\n",
        "\n",
        "years_sorted = sorted(year_counts.index)\n",
        "sns.countplot(x='release_month', data=train, order=years_sorted)\n",
        "plt.title(\"Release Month Count\")\n",
        "loc, labels = plt.xticks()\n",
        "loc, labels = loc, [\"Jan\", \"Feb\", \"Mar\", \"Apr\", \"May\", \"Jun\", \"Jul\", \"Aug\", \"Sep\", \"Oct\", \"Nov\", \"Dec\"]\n",
        "plt.xticks(loc, labels,fontsize=20)\n",
        "plt.show()"
      ]
    },
    {
      "cell_type": "code",
      "execution_count": null,
      "metadata": {
        "id": "1b066740"
      },
      "outputs": [],
      "source": [
        "plt.figure(figsize=(20,12))\n",
        "year_counts = train['release_day'].value_counts()\n",
        "\n",
        "years_sorted = sorted(year_counts.index)\n",
        "sns.countplot(x='release_day', data=train, order=years_sorted)\n",
        "plt.title(\"Release Day Count\")\n",
        "plt.xticks(fontsize=20)\n",
        "plt.show()"
      ]
    },
    {
      "cell_type": "code",
      "execution_count": null,
      "metadata": {
        "id": "3503df94"
      },
      "outputs": [],
      "source": [
        "plt.figure(figsize=(18,12))\n",
        "year_counts = train['release_dayofweek'].value_counts()\n",
        "\n",
        "years_sorted = sorted(year_counts.index)\n",
        "sns.countplot(x='release_dayofweek', data=train, order=years_sorted)\n",
        "plt.title(\"Total movies released on Day Of Week\",fontsize=20)\n",
        "loc, labels = plt.xticks()\n",
        "loc, labels = loc, [\"Mon\",\"Tue\",\"Wed\",\"Thu\",\"Fri\",\"Sat\",\"Sun\"]\n",
        "plt.xticks(loc, labels,fontsize=20)\n",
        "plt.show()"
      ]
    },
    {
      "cell_type": "code",
      "execution_count": null,
      "metadata": {
        "id": "415f3dd0"
      },
      "outputs": [],
      "source": [
        "plt.figure(figsize=(20,12))\n",
        "year_counts = train['release_quarter'].value_counts()\n",
        "\n",
        "years_sorted = sorted(year_counts.index)\n",
        "sns.countplot(x='release_quarter', data=train, order=years_sorted)\n",
        "plt.title(\"Total movies released in a quarter\",fontsize=20)\n",
        "plt.xticks(ticks=[0,1,2,3],labels=['Jan-Mar','Apr-June','july-Sept','oct-dec'])\n",
        "plt.show()"
      ]
    },
    {
      "cell_type": "code",
      "execution_count": null,
      "metadata": {
        "id": "ce88b670"
      },
      "outputs": [],
      "source": [
        "plt.figure(figsize= (18,12))\n",
        "sns.lineplot(x='release_year',y='revenue',data = train)\n",
        "plt.title(\"Release year vs Revenue\")\n",
        "plt.show()"
      ]
    },
    {
      "cell_type": "code",
      "execution_count": null,
      "metadata": {
        "id": "1e469b7f"
      },
      "outputs": [],
      "source": [
        "plt.figure(figsize= (18,12))\n",
        "sns.lineplot(x='release_year',y='budget',data = train,label = 'budget')\n",
        "sns.lineplot(x='release_year',y='revenue',data = train,label = 'revenue')\n",
        "plt.legend()\n",
        "plt.show()"
      ]
    },
    {
      "cell_type": "code",
      "execution_count": null,
      "metadata": {
        "id": "9492abd5"
      },
      "outputs": [],
      "source": [
        "plt.figure(figsize= (18,12))\n",
        "sns.lineplot(x='release_month',y='revenue',data = train)\n",
        "plt.title(\"Release month vs Revenue\")\n",
        "plt.show()"
      ]
    },
    {
      "cell_type": "code",
      "execution_count": null,
      "metadata": {
        "id": "fed05da1"
      },
      "outputs": [],
      "source": [
        "plt.figure(figsize= (18,12))\n",
        "sns.lineplot(x='release_dayofweek',y='revenue',data = train)\n",
        "plt.title(\"Release day vs Revenue\")\n",
        "plt.show()"
      ]
    },
    {
      "cell_type": "code",
      "execution_count": null,
      "metadata": {
        "id": "ac8e7240"
      },
      "outputs": [],
      "source": [
        "plt.figure(figsize = (18,12))\n",
        "sns.countplot(x='original_language', data=train)\n",
        "plt.show()"
      ]
    },
    {
      "cell_type": "code",
      "execution_count": null,
      "metadata": {
        "id": "fe571cbc"
      },
      "outputs": [],
      "source": [
        "train['status'].value_counts()"
      ]
    },
    {
      "cell_type": "code",
      "execution_count": null,
      "metadata": {
        "id": "fd646efa"
      },
      "outputs": [],
      "source": [
        "train['is_released'] = train['status'].apply(lambda x: 1 if x == 'Released' else 0)\n",
        "test['is_released'] = test['status'].apply(lambda x: 1 if x == 'Released' else 0)"
      ]
    },
    {
      "cell_type": "markdown",
      "metadata": {
        "id": "a7671b07"
      },
      "source": [
        "only 4 movies are rumored the rest are released"
      ]
    },
    {
      "cell_type": "code",
      "execution_count": null,
      "metadata": {
        "id": "1a5d3892"
      },
      "outputs": [],
      "source": [
        "train['has_homepage'] = train['homepage'].apply(lambda x: 0 if pd.isna(x) else 1)\n",
        "test['has_homepage'] = test['homepage'].apply(lambda x: 0 if pd.isna(x) else 1)"
      ]
    },
    {
      "cell_type": "code",
      "execution_count": null,
      "metadata": {
        "id": "d17cca31"
      },
      "outputs": [],
      "source": [
        "train = train.drop(['homepage'],axis = 1)\n",
        "test = test.drop(['homepage'],axis = 1)"
      ]
    },
    {
      "cell_type": "code",
      "execution_count": null,
      "metadata": {
        "id": "24de43cf"
      },
      "outputs": [],
      "source": [
        "plt.figure(figsize = (18,12))\n",
        "sns.countplot(x='has_homepage', data=train,palette='winter')\n",
        "plt.show()"
      ]
    },
    {
      "cell_type": "markdown",
      "metadata": {
        "id": "a590306d"
      },
      "source": [
        "most of the movies dont have a homepage"
      ]
    },
    {
      "cell_type": "markdown",
      "metadata": {
        "id": "b6a4b3ce"
      },
      "source": [
        "Does having a homepage effect the revenue"
      ]
    },
    {
      "cell_type": "code",
      "execution_count": null,
      "metadata": {
        "id": "685e1e17"
      },
      "outputs": [],
      "source": [
        "train['has_a_tagline'] = train['tagline'].apply(lambda x: 0 if pd.isna(x) else 1)\n",
        "test['has_a_tagline'] = test['tagline'].apply(lambda x: 0 if pd.isna(x) else 1)"
      ]
    },
    {
      "cell_type": "code",
      "execution_count": null,
      "metadata": {
        "id": "9f01b61f"
      },
      "outputs": [],
      "source": [
        "train['originallang_en'] = train['original_language'].apply(lambda x: 1 if x == 'en'else 0)\n",
        "test['originallang_en'] = test['original_language'].apply(lambda x: 1 if x == 'en'else 0)"
      ]
    },
    {
      "cell_type": "code",
      "execution_count": null,
      "metadata": {
        "id": "89e49225"
      },
      "outputs": [],
      "source": [
        "plt.figure(figsize = (18,12))\n",
        "sns.heatmap(train.corr(),annot = True,cmap = 'Blues');"
      ]
    },
    {
      "cell_type": "markdown",
      "metadata": {
        "id": "ec3eae46"
      },
      "source": [
        "## Lets start with 'belongs_to_collection' column"
      ]
    },
    {
      "cell_type": "markdown",
      "metadata": {
        "id": "d557329a"
      },
      "source": [
        "counting missing values"
      ]
    },
    {
      "cell_type": "code",
      "execution_count": null,
      "metadata": {
        "id": "53cfda28",
        "scrolled": false
      },
      "outputs": [],
      "source": [
        "train['belongs_to_collection'].apply(lambda x: len(x) if x != {} else 0).value_counts()"
      ]
    },
    {
      "cell_type": "markdown",
      "metadata": {
        "id": "ef24a544"
      },
      "source": [
        "2396 values in this column are empty, 604 contrain information about the collections."
      ]
    },
    {
      "cell_type": "markdown",
      "metadata": {
        "id": "a308b9a6"
      },
      "source": [
        "Adding a collection_name column which contains name of the collection (for eg: 'Hot Tub Time Machine Collection')"
      ]
    },
    {
      "cell_type": "code",
      "execution_count": null,
      "metadata": {
        "id": "8a788d28",
        "scrolled": true
      },
      "outputs": [],
      "source": [
        "train['collection_name'] = train['belongs_to_collection'].apply(lambda x: x[0]['name'] if x != {} else '')"
      ]
    },
    {
      "cell_type": "markdown",
      "metadata": {
        "id": "74431870"
      },
      "source": [
        "Adding a collection_name column which will tell if the movie belongs to a specific colllection<br>\n",
        "1 : if movie belongs to a collection<br>\n",
        "0 : if it does'nt belong to any collection"
      ]
    },
    {
      "cell_type": "code",
      "execution_count": null,
      "metadata": {
        "id": "19200485"
      },
      "outputs": [],
      "source": [
        "train['has_collection'] = train['belongs_to_collection'].apply(lambda x: len(x) if x != {} else 0)"
      ]
    },
    {
      "cell_type": "markdown",
      "metadata": {
        "id": "dc489914"
      },
      "source": [
        "Doing the same for the test set"
      ]
    },
    {
      "cell_type": "code",
      "execution_count": null,
      "metadata": {
        "id": "1ee782fe"
      },
      "outputs": [],
      "source": [
        "test['collection_name'] = test['belongs_to_collection'].apply(lambda x: x[0]['name'] if x != {} else '')\n",
        "test['has_collection'] = test['belongs_to_collection'].apply(lambda x: len(x) if x != {} else 0)"
      ]
    },
    {
      "cell_type": "markdown",
      "metadata": {
        "id": "9cf458e2"
      },
      "source": [
        "Now we dont need the 'belongs_to_collection' column do we will drop it in both the sets"
      ]
    },
    {
      "cell_type": "code",
      "execution_count": null,
      "metadata": {
        "id": "5089fd1e"
      },
      "outputs": [],
      "source": [
        "train = train.drop(['belongs_to_collection'], axis=1)\n",
        "test = test.drop(['belongs_to_collection'], axis=1)"
      ]
    },
    {
      "cell_type": "markdown",
      "metadata": {
        "id": "7c77fa13"
      },
      "source": [
        "## Now lets deal with then 'genres' column\n",
        "one movie can have multiple genres"
      ]
    },
    {
      "cell_type": "markdown",
      "metadata": {
        "id": "8dcef80c"
      },
      "source": [
        "How many genres do films have"
      ]
    },
    {
      "cell_type": "code",
      "execution_count": null,
      "metadata": {
        "id": "6f7dfde4"
      },
      "outputs": [],
      "source": [
        "train['genres'].apply(lambda x: len(x) if x != {} else 0).value_counts()"
      ]
    },
    {
      "cell_type": "markdown",
      "metadata": {
        "id": "d1f4e15e"
      },
      "source": [
        "Now lets make a list of genres to find out which genres are the most popular"
      ]
    },
    {
      "cell_type": "code",
      "execution_count": null,
      "metadata": {
        "id": "77c49fe0"
      },
      "outputs": [],
      "source": [
        "genre_list = list(train['genres'].apply(lambda x: [i['name'] for i in x] if x != {} else []))"
      ]
    },
    {
      "cell_type": "code",
      "execution_count": null,
      "metadata": {
        "id": "09dda6bb"
      },
      "outputs": [],
      "source": [
        "genre_list"
      ]
    },
    {
      "cell_type": "markdown",
      "metadata": {
        "id": "348b5824"
      },
      "source": [
        "We can plot a word cloud to show the genres which are the most popular"
      ]
    },
    {
      "cell_type": "code",
      "execution_count": null,
      "metadata": {
        "id": "a690cf3e"
      },
      "outputs": [],
      "source": [
        "Counter([i for j in genre_list for i in j])"
      ]
    },
    {
      "cell_type": "markdown",
      "metadata": {
        "id": "f5d9c1d6"
      },
      "source": [
        "These are the most watched genres"
      ]
    },
    {
      "cell_type": "markdown",
      "metadata": {
        "id": "a1c6ecbc"
      },
      "source": [
        "Lets create a column which shows how many genres does a movie belongs to"
      ]
    },
    {
      "cell_type": "code",
      "execution_count": null,
      "metadata": {
        "id": "113e1394"
      },
      "outputs": [],
      "source": [
        "train['num_genres'] = train['genres'].apply(lambda x:len(x) if x!= {} else 0)"
      ]
    },
    {
      "cell_type": "markdown",
      "metadata": {
        "id": "9672378f"
      },
      "source": [
        "encoding the genres which appear the most"
      ]
    },
    {
      "cell_type": "code",
      "execution_count": null,
      "metadata": {
        "id": "e314c14f"
      },
      "outputs": [],
      "source": [
        "train['all_genres'] = train['genres'].apply(lambda x: ' '.join(sorted([i['name'] for i in x])) if x != {} else '')"
      ]
    },
    {
      "cell_type": "code",
      "execution_count": null,
      "metadata": {
        "id": "434228a1"
      },
      "outputs": [],
      "source": [
        "top_genres =[ m[0] for m in Counter([i for j in genre_list for i in j]).most_common(20)]\n",
        "for g in top_genres:\n",
        "    train['genre_' + g] = train['all_genres'].apply(lambda x: 1 if g in x else 0)"
      ]
    },
    {
      "cell_type": "markdown",
      "metadata": {
        "id": "9b8dbb3d"
      },
      "source": [
        "Now doing the same for the test set"
      ]
    },
    {
      "cell_type": "code",
      "execution_count": null,
      "metadata": {
        "id": "5bd2b6e0"
      },
      "outputs": [],
      "source": [
        "test['num_genres'] = test['genres'].apply(lambda x: len(x) if x != {} else 0)\n",
        "test['all_genres'] = test['genres'].apply(lambda x: ' '.join(sorted([i['name'] for i in x])) if x != {} else '')\n",
        "for g in top_genres:\n",
        "    test['genre_' + g] = test['all_genres'].apply(lambda x: 1 if g in x else 0)\n"
      ]
    },
    {
      "cell_type": "code",
      "execution_count": null,
      "metadata": {
        "id": "ALaZQBIXVLAl"
      },
      "outputs": [],
      "source": [
        "train = train.drop([\"genres\"],axis=1)\n",
        "test = test.drop([\"genres\"],axis=1)"
      ]
    },
    {
      "cell_type": "markdown",
      "metadata": {
        "id": "c0e5cc8b"
      },
      "source": [
        "We dont need the genre column any more so we can drop it from both the sets"
      ]
    },
    {
      "cell_type": "markdown",
      "metadata": {
        "id": "7cf77a0b"
      },
      "source": [
        "## overview"
      ]
    },
    {
      "cell_type": "markdown",
      "metadata": {
        "id": "e67217db"
      },
      "source": [
        "How many production companies are involved in making films"
      ]
    },
    {
      "cell_type": "code",
      "execution_count": null,
      "metadata": {
        "id": "468c83dd"
      },
      "outputs": [],
      "source": [
        "train['production_companies'].apply(lambda x: len(x) if x!= {} else 0 ).value_counts()"
      ]
    },
    {
      "cell_type": "markdown",
      "metadata": {
        "id": "fb5fa3cf"
      },
      "source": [
        "Looks like most of the movies have 1 or 2 production companies"
      ]
    },
    {
      "cell_type": "code",
      "execution_count": null,
      "metadata": {
        "id": "1dfcd5b7"
      },
      "outputs": [],
      "source": [
        "company_list = list(train['production_companies'].apply(lambda x:[i['name'] for i in x] if x != {} else []).values)\n",
        "print(company_list)"
      ]
    },
    {
      "cell_type": "code",
      "execution_count": null,
      "metadata": {
        "id": "e503e88e"
      },
      "outputs": [],
      "source": [
        "Counter([i for j in company_list for i in j]).most_common(30)"
      ]
    },
    {
      "cell_type": "markdown",
      "metadata": {
        "id": "b1f4459a"
      },
      "source": [
        "making a column for the number of companies involved in making the movie"
      ]
    },
    {
      "cell_type": "code",
      "execution_count": null,
      "metadata": {
        "id": "937f868c"
      },
      "outputs": [],
      "source": [
        "train['num_companies'] = train['production_companies'].apply(lambda x: len(x) if x != {} else 0)"
      ]
    },
    {
      "cell_type": "markdown",
      "metadata": {
        "id": "1829a6a7"
      },
      "source": [
        "Encoding the top 30 companies"
      ]
    },
    {
      "cell_type": "code",
      "execution_count": null,
      "metadata": {
        "id": "da092fa4"
      },
      "outputs": [],
      "source": [
        "train['all_production_companies'] = train['production_companies'].apply(lambda x: ' '.join(sorted([i['name'] for i in x])) if x != {} else '')\n",
        "top_companies = [m[0] for m in Counter([i for j in company_list for i in j]).most_common(30)]\n",
        "for g in top_companies:\n",
        "    train['production_company_' + g] = train['all_production_companies'].apply(lambda x: 1 if g in x else 0)"
      ]
    },
    {
      "cell_type": "markdown",
      "metadata": {
        "id": "b402d201"
      },
      "source": [
        "Same for the test set"
      ]
    },
    {
      "cell_type": "code",
      "execution_count": null,
      "metadata": {
        "id": "04441013"
      },
      "outputs": [],
      "source": [
        "test['num_companies'] = test['production_companies'].apply(lambda x: len(x) if x != {} else 0)\n",
        "test['all_production_companies'] = test['production_companies'].apply(lambda x: ' '.join(sorted([i['name'] for i in x])) if x != {} else '')\n",
        "for g in top_companies:\n",
        "    test['production_company_' + g] = test['all_production_companies'].apply(lambda x: 1 if g in x else 0)"
      ]
    },
    {
      "cell_type": "markdown",
      "metadata": {
        "id": "598a4bd3"
      },
      "source": [
        "now we can drop the 'production_companies' column"
      ]
    },
    {
      "cell_type": "code",
      "execution_count": null,
      "metadata": {
        "id": "50ed9d12"
      },
      "outputs": [],
      "source": [
        "train = train.drop(['production_companies', 'all_production_companies'], axis=1)\n",
        "test = test.drop(['production_companies', 'all_production_companies'], axis=1)"
      ]
    },
    {
      "cell_type": "markdown",
      "metadata": {
        "id": "7c82dcf5"
      },
      "source": [
        "## production_countries column"
      ]
    },
    {
      "cell_type": "code",
      "execution_count": null,
      "metadata": {
        "id": "7f5537cb"
      },
      "outputs": [],
      "source": [
        "print('Number of production countries in films')\n",
        "train['production_countries'].apply(lambda x: len(x) if x != {} else 0).value_counts()"
      ]
    },
    {
      "cell_type": "code",
      "execution_count": null,
      "metadata": {
        "id": "23554372"
      },
      "outputs": [],
      "source": [
        "list_of_countries = list(train['production_countries'].apply(lambda x: [i['name'] for i in x] if x != {} else []).values)\n",
        "Counter([i for j in list_of_countries for i in j]).most_common(25)"
      ]
    },
    {
      "cell_type": "code",
      "execution_count": null,
      "metadata": {
        "id": "733fb7a8"
      },
      "outputs": [],
      "source": [
        "train['num_countries'] = train['production_countries'].apply(lambda x: len(x) if x != {} else 0)\n"
      ]
    },
    {
      "cell_type": "markdown",
      "metadata": {
        "id": "3a8f2632"
      },
      "source": [
        "Encoding the top 25 countries"
      ]
    },
    {
      "cell_type": "code",
      "execution_count": null,
      "metadata": {
        "id": "988daf61"
      },
      "outputs": [],
      "source": [
        "train['all_countries'] = train['production_countries'].apply(lambda x: ' '.join(sorted([i['name'] for i in x])) if x != {} else '')\n",
        "top_countries = [m[0] for m in Counter([i for j in list_of_countries for i in j]).most_common(25)]\n",
        "for g in top_countries:\n",
        "    train['production_country_' + g] = train['all_countries'].apply(lambda x: 1 if g in x else 0)"
      ]
    },
    {
      "cell_type": "markdown",
      "metadata": {
        "id": "c0e13885"
      },
      "source": [
        "same for the test set"
      ]
    },
    {
      "cell_type": "code",
      "execution_count": null,
      "metadata": {
        "id": "2c3ff52c"
      },
      "outputs": [],
      "source": [
        "test['num_countries'] = test['production_countries'].apply(lambda x: len(x) if x != {} else 0)\n",
        "test['all_countries'] = test['production_countries'].apply(lambda x: ' '.join(sorted([i['name'] for i in x])) if x != {} else '')\n",
        "for g in top_countries:\n",
        "    test['production_country_' + g] = test['all_countries'].apply(lambda x: 1 if g in x else 0)"
      ]
    },
    {
      "cell_type": "markdown",
      "metadata": {
        "id": "01147e23"
      },
      "source": [
        "Dropping the 'production_countries' column"
      ]
    },
    {
      "cell_type": "code",
      "execution_count": null,
      "metadata": {
        "id": "9e49b3fc"
      },
      "outputs": [],
      "source": [
        "train = train.drop(['production_countries', 'all_countries'], axis=1)\n",
        "test = test.drop(['production_countries', 'all_countries'], axis=1)"
      ]
    },
    {
      "cell_type": "markdown",
      "metadata": {
        "id": "63d798cd"
      },
      "source": [
        "## spoken_languages column"
      ]
    },
    {
      "cell_type": "code",
      "execution_count": null,
      "metadata": {
        "id": "b9335d6c"
      },
      "outputs": [],
      "source": [
        "print('Number of spoken languages in films')\n",
        "train['spoken_languages'].apply(lambda x: len(x) if x != {} else 0).value_counts()"
      ]
    },
    {
      "cell_type": "markdown",
      "metadata": {
        "id": "be2d9992"
      },
      "source": [
        "list of most common languages"
      ]
    },
    {
      "cell_type": "code",
      "execution_count": null,
      "metadata": {
        "id": "4efe83f5"
      },
      "outputs": [],
      "source": [
        "list_of_languages = list(train['spoken_languages'].apply(lambda x: [i['name'] for i in x] if x != {} else []).values)\n",
        "Counter([i for j in list_of_languages for i in j]).most_common()"
      ]
    },
    {
      "cell_type": "markdown",
      "metadata": {
        "id": "b353228f"
      },
      "source": [
        "Number of languages spoken in movies"
      ]
    },
    {
      "cell_type": "code",
      "execution_count": null,
      "metadata": {
        "id": "12230806"
      },
      "outputs": [],
      "source": [
        "train['num_languages'] = train['spoken_languages'].apply(lambda x: len(x) if x != {} else 0)"
      ]
    },
    {
      "cell_type": "markdown",
      "metadata": {
        "id": "cddd40c7"
      },
      "source": [
        "Encoding the most common languages"
      ]
    },
    {
      "cell_type": "code",
      "execution_count": null,
      "metadata": {
        "id": "7bb60ed4"
      },
      "outputs": [],
      "source": [
        "train['all_languages'] = train['spoken_languages'].apply(lambda x: ' '.join(sorted([i['name'] for i in x])) if x != {} else '')\n",
        "top_languages = [m[0] for m in Counter([i for j in list_of_languages for i in j]).most_common(30)]\n",
        "for g in top_languages:\n",
        "    train['language_' + g] = train['all_languages'].apply(lambda x: 1 if g in x else 0)"
      ]
    },
    {
      "cell_type": "code",
      "execution_count": null,
      "metadata": {
        "id": "da610365"
      },
      "outputs": [],
      "source": [
        "test['num_languages'] = test['spoken_languages'].apply(lambda x: len(x) if x != {} else 0)\n",
        "test['all_languages'] = test['spoken_languages'].apply(lambda x: ' '.join(sorted([i['name'] for i in x])) if x != {} else '')\n",
        "for g in top_languages:\n",
        "    test['language_' + g] = test['all_languages'].apply(lambda x: 1 if g in x else 0)"
      ]
    },
    {
      "cell_type": "markdown",
      "metadata": {
        "id": "5353a0fc"
      },
      "source": [
        "Dropping the 'spoken_languages' column "
      ]
    },
    {
      "cell_type": "code",
      "execution_count": null,
      "metadata": {
        "id": "bb4ec6d2"
      },
      "outputs": [],
      "source": [
        "train = train.drop(['spoken_languages', 'all_languages'], axis=1)\n",
        "test = test.drop(['spoken_languages', 'all_languages'], axis=1)"
      ]
    },
    {
      "cell_type": "markdown",
      "metadata": {
        "id": "82a1c05d"
      },
      "source": [
        "## keywords"
      ]
    },
    {
      "cell_type": "code",
      "execution_count": null,
      "metadata": {
        "id": "9dbc9693"
      },
      "outputs": [],
      "source": [
        "print('Number of Keywords in films')\n",
        "train['Keywords'].apply(lambda x: len(x) if x != {} else 0).value_counts().head(10)"
      ]
    },
    {
      "cell_type": "code",
      "execution_count": null,
      "metadata": {
        "id": "b99c7ee9"
      },
      "outputs": [],
      "source": [
        "list_of_keywords = list(train['Keywords'].apply(lambda x: [i['name'] for i in x] if x != {} else []).values)"
      ]
    },
    {
      "cell_type": "markdown",
      "metadata": {
        "id": "f080825e"
      },
      "source": [
        "Column for number of keywords"
      ]
    },
    {
      "cell_type": "code",
      "execution_count": null,
      "metadata": {
        "id": "3c29f481"
      },
      "outputs": [],
      "source": [
        "train['num_Keywords'] = train['Keywords'].apply(lambda x: len(x) if x != {} else 0)"
      ]
    },
    {
      "cell_type": "markdown",
      "metadata": {
        "id": "38ef3053"
      },
      "source": [
        "encoding for most common keywords"
      ]
    },
    {
      "cell_type": "code",
      "execution_count": null,
      "metadata": {
        "id": "6f8e67ce"
      },
      "outputs": [],
      "source": [
        "train['all_Keywords'] = train['Keywords'].apply(lambda x: ' '.join(sorted([i['name'] for i in x])) if x != {} else '')\n",
        "top_keywords = [m[0] for m in Counter([i for j in list_of_keywords for i in j]).most_common(30)]\n",
        "for g in top_keywords:\n",
        "    train['keyword_' + g] = train['all_Keywords'].apply(lambda x: 1 if g in x else 0)"
      ]
    },
    {
      "cell_type": "code",
      "execution_count": null,
      "metadata": {
        "id": "a7bdcb9b"
      },
      "outputs": [],
      "source": [
        "test['num_Keywords'] = test['Keywords'].apply(lambda x: len(x) if x != {} else 0)\n",
        "test['all_Keywords'] = test['Keywords'].apply(lambda x: ' '.join(sorted([i['name'] for i in x])) if x != {} else '')\n",
        "for g in top_keywords:\n",
        "    test['keyword_' + g] = test['all_Keywords'].apply(lambda x: 1 if g in x else 0)"
      ]
    },
    {
      "cell_type": "markdown",
      "metadata": {
        "id": "d48ce572"
      },
      "source": [
        "Dropping the Keywords column"
      ]
    },
    {
      "cell_type": "code",
      "execution_count": null,
      "metadata": {
        "id": "3be23a0b"
      },
      "outputs": [],
      "source": [
        "train = train.drop(['Keywords', 'all_Keywords'], axis=1)\n",
        "test = test.drop(['Keywords', 'all_Keywords'], axis=1)"
      ]
    },
    {
      "cell_type": "markdown",
      "metadata": {
        "id": "8884f8fb"
      },
      "source": [
        "## Cast"
      ]
    },
    {
      "cell_type": "code",
      "execution_count": null,
      "metadata": {
        "id": "d0bfb954"
      },
      "outputs": [],
      "source": [
        "print('Number of casted persons in films')\n",
        "train['cast'].apply(lambda x: len(x) if x != {} else 0).value_counts().head(10)"
      ]
    },
    {
      "cell_type": "markdown",
      "metadata": {
        "id": "f7fcab01"
      },
      "source": [
        "Most popular ones are"
      ]
    },
    {
      "cell_type": "code",
      "execution_count": null,
      "metadata": {
        "id": "05bf62a7"
      },
      "outputs": [],
      "source": [
        "list_of_cast_names = list(train['cast'].apply(lambda x: [i['name'] for i in x] if x != {} else []).values)\n",
        "Counter([i for j in list_of_cast_names for i in j]).most_common(15)"
      ]
    },
    {
      "cell_type": "markdown",
      "metadata": {
        "id": "890c3c84"
      },
      "source": [
        "Gender of the cast"
      ]
    },
    {
      "cell_type": "markdown",
      "metadata": {
        "id": "464a68e3"
      },
      "source": [
        "0 is unspecified, 1 is female, and 2 is male"
      ]
    },
    {
      "cell_type": "code",
      "execution_count": null,
      "metadata": {
        "id": "7bf0b9e5",
        "scrolled": false
      },
      "outputs": [],
      "source": [
        "list_of_cast_genders = list(train['cast'].apply(lambda x: [i['gender'] for i in x] if x != {} else []).values)\n",
        "Counter([i for j in list_of_cast_genders for i in j]).most_common()"
      ]
    },
    {
      "cell_type": "markdown",
      "metadata": {
        "id": "566eac37"
      },
      "source": [
        "Characters played"
      ]
    },
    {
      "cell_type": "code",
      "execution_count": null,
      "metadata": {
        "id": "8efb8851"
      },
      "outputs": [],
      "source": [
        "list_of_cast_characters = list(train['cast'].apply(lambda x: [i['character'] for i in x] if x != {} else []).values)\n",
        "Counter([i for j in list_of_cast_characters for i in j]).most_common(15)"
      ]
    },
    {
      "cell_type": "markdown",
      "metadata": {
        "id": "118079de"
      },
      "source": [
        "Creating number column for the cast"
      ]
    },
    {
      "cell_type": "code",
      "execution_count": null,
      "metadata": {
        "id": "8993092d"
      },
      "outputs": [],
      "source": [
        "train['num_cast'] = train['cast'].apply(lambda x: len(x) if x != {} else 0)"
      ]
    },
    {
      "cell_type": "code",
      "execution_count": null,
      "metadata": {
        "id": "328dd12e"
      },
      "outputs": [],
      "source": [
        "plt.figure(figsize=(16, 8))\n",
        "plt.scatter(train['num_cast'], train['revenue'])\n",
        "plt.title('Number of cast members vs revenue');"
      ]
    },
    {
      "cell_type": "markdown",
      "metadata": {
        "id": "bcaeb989"
      },
      "source": [
        "Encoding the top cast names"
      ]
    },
    {
      "cell_type": "code",
      "execution_count": null,
      "metadata": {
        "id": "80529ee6"
      },
      "outputs": [],
      "source": [
        "top_cast_names = [m[0] for m in Counter([i for j in list_of_cast_names for i in j]).most_common(15)]\n",
        "for g in top_cast_names:\n",
        "    train['cast_name_' + g] = train['cast'].apply(lambda x: 1 if g in str(x) else 0)"
      ]
    },
    {
      "cell_type": "markdown",
      "metadata": {
        "id": "cb7d78b5"
      },
      "source": [
        "Encoding the cast according to their Genders"
      ]
    },
    {
      "cell_type": "code",
      "execution_count": null,
      "metadata": {
        "id": "9455cb4b"
      },
      "outputs": [],
      "source": [
        "train['genders_0_cast'] = train['cast'].apply(lambda x: sum([1 for i in x if i['gender'] == 0]))\n",
        "train['genders_1_cast'] = train['cast'].apply(lambda x: sum([1 for i in x if i['gender'] == 1]))\n",
        "train['genders_2_cast'] = train['cast'].apply(lambda x: sum([1 for i in x if i['gender'] == 2]))"
      ]
    },
    {
      "cell_type": "markdown",
      "metadata": {
        "id": "91169e82"
      },
      "source": [
        "Encoding the characters played"
      ]
    },
    {
      "cell_type": "code",
      "execution_count": null,
      "metadata": {
        "id": "5f8a57f3"
      },
      "outputs": [],
      "source": [
        "top_cast_characters = [m[0] for m in Counter([i for j in list_of_cast_characters for i in j]).most_common(15)]\n",
        "for g in top_cast_characters:\n",
        "    train['cast_character_' + g] = train['cast'].apply(lambda x: 1 if g in str(x) else 0)"
      ]
    },
    {
      "cell_type": "markdown",
      "metadata": {
        "id": "066a4eb6"
      },
      "source": [
        "Doing the same for the test set"
      ]
    },
    {
      "cell_type": "code",
      "execution_count": null,
      "metadata": {
        "id": "c870020f"
      },
      "outputs": [],
      "source": [
        "test['num_cast'] = test['cast'].apply(lambda x: len(x) if x != {} else 0)\n",
        "for g in top_cast_names:\n",
        "    test['cast_name_' + g] = test['cast'].apply(lambda x: 1 if g in str(x) else 0)\n",
        "test['genders_0_cast'] = test['cast'].apply(lambda x: sum([1 for i in x if i['gender'] == 0]))\n",
        "test['genders_1_cast'] = test['cast'].apply(lambda x: sum([1 for i in x if i['gender'] == 1]))\n",
        "test['genders_2_cast'] = test['cast'].apply(lambda x: sum([1 for i in x if i['gender'] == 2]))"
      ]
    },
    {
      "cell_type": "code",
      "execution_count": null,
      "metadata": {
        "colab": {
          "background_save": true
        },
        "id": "2df27f48"
      },
      "outputs": [],
      "source": [
        "for g in top_cast_characters:\n",
        "    test['cast_character_' + g] = test['cast'].apply(lambda x: 1 if g in str(x) else 0)"
      ]
    },
    {
      "cell_type": "markdown",
      "metadata": {
        "id": "211b2bd3"
      },
      "source": [
        "Dropping the cast column"
      ]
    },
    {
      "cell_type": "code",
      "execution_count": null,
      "metadata": {
        "colab": {
          "background_save": true
        },
        "id": "62c7f5ce"
      },
      "outputs": [],
      "source": [
        "train = train.drop(['cast'], axis=1)\n",
        "test = test.drop(['cast'], axis=1)"
      ]
    },
    {
      "cell_type": "markdown",
      "metadata": {
        "id": "0df74d02"
      },
      "source": [
        "## Crew column"
      ]
    },
    {
      "cell_type": "code",
      "execution_count": null,
      "metadata": {
        "colab": {
          "background_save": true
        },
        "id": "29cc71a1",
        "scrolled": true,
        "outputId": "32f37bc0-840e-4a16-c3b4-49ef1c7963b4"
      },
      "outputs": [
        {
          "name": "stdout",
          "output_type": "stream",
          "text": [
            "Number of crew members\n"
          ]
        },
        {
          "data": {
            "text/plain": [
              "2     179\n",
              "11    127\n",
              "10    126\n",
              "3     126\n",
              "12    110\n",
              "8     109\n",
              "9     109\n",
              "14    104\n",
              "4     101\n",
              "7      94\n",
              "Name: crew, dtype: int64"
            ]
          },
          "execution_count": 97,
          "metadata": {},
          "output_type": "execute_result"
        }
      ],
      "source": [
        "print('Number of crew members')\n",
        "train['crew'].apply(lambda x: len(x) if x != {} else 0).value_counts().head(10)"
      ]
    },
    {
      "cell_type": "code",
      "execution_count": null,
      "metadata": {
        "colab": {
          "background_save": true
        },
        "id": "d7003f41",
        "outputId": "f7507ff8-75d1-48fe-ba20-76dd566db90c"
      },
      "outputs": [
        {
          "data": {
            "text/plain": [
              "[('Avy Kaufman', 50),\n",
              " ('Robert Rodriguez', 44),\n",
              " ('Deborah Aquila', 40),\n",
              " ('James Newton Howard', 39),\n",
              " ('Mary Vernieu', 38),\n",
              " ('Steven Spielberg', 37),\n",
              " ('Luc Besson', 37),\n",
              " ('Jerry Goldsmith', 37),\n",
              " ('Francine Maisler', 35),\n",
              " ('Tricia Wood', 35),\n",
              " ('James Horner', 33),\n",
              " ('Kerry Barden', 32),\n",
              " ('Bob Weinstein', 30),\n",
              " ('Harvey Weinstein', 30),\n",
              " ('Janet Hirshenson', 30)]"
            ]
          },
          "execution_count": 98,
          "metadata": {},
          "output_type": "execute_result"
        }
      ],
      "source": [
        "list_of_crew_names = list(train['crew'].apply(lambda x: [i['name'] for i in x] if x != {} else []).values)\n",
        "Counter([i for j in list_of_crew_names for i in j]).most_common(15)"
      ]
    },
    {
      "cell_type": "markdown",
      "metadata": {
        "id": "8f59f06c"
      },
      "source": [
        "Crew jobs"
      ]
    },
    {
      "cell_type": "code",
      "execution_count": null,
      "metadata": {
        "colab": {
          "background_save": true
        },
        "id": "64b28f5d",
        "outputId": "9b47e92a-1887-4edb-c728-022c8bfbdb66"
      },
      "outputs": [
        {
          "data": {
            "text/plain": [
              "[('Producer', 6011),\n",
              " ('Executive Producer', 3459),\n",
              " ('Director', 3225),\n",
              " ('Screenplay', 2996),\n",
              " ('Editor', 2824),\n",
              " ('Casting', 2483),\n",
              " ('Director of Photography', 2288),\n",
              " ('Original Music Composer', 1947),\n",
              " ('Art Direction', 1821),\n",
              " ('Production Design', 1650),\n",
              " ('Costume Design', 1573),\n",
              " ('Writer', 1523),\n",
              " ('Set Decoration', 1345),\n",
              " ('Makeup Artist', 1108),\n",
              " ('Sound Re-Recording Mixer', 970)]"
            ]
          },
          "execution_count": 99,
          "metadata": {},
          "output_type": "execute_result"
        }
      ],
      "source": [
        "list_of_crew_jobs = list(train['crew'].apply(lambda x: [i['job'] for i in x] if x != {} else []).values)\n",
        "Counter([i for j in list_of_crew_jobs for i in j]).most_common(15)"
      ]
    },
    {
      "cell_type": "markdown",
      "metadata": {
        "id": "e4a057f4"
      },
      "source": [
        "Crew genders"
      ]
    },
    {
      "cell_type": "code",
      "execution_count": null,
      "metadata": {
        "colab": {
          "background_save": true
        },
        "id": "81ae11d6",
        "outputId": "13b8edee-2560-4bb1-bd67-4eb0c9ea3acc"
      },
      "outputs": [
        {
          "data": {
            "text/plain": [
              "[(0, 41787), (2, 24898), (1, 6412)]"
            ]
          },
          "execution_count": 100,
          "metadata": {},
          "output_type": "execute_result"
        }
      ],
      "source": [
        "list_of_crew_genders = list(train['crew'].apply(lambda x: [i['gender'] for i in x] if x != {} else []).values)\n",
        "Counter([i for j in list_of_crew_genders for i in j]).most_common(15)"
      ]
    },
    {
      "cell_type": "code",
      "execution_count": null,
      "metadata": {
        "colab": {
          "background_save": true
        },
        "id": "8ccc2611",
        "outputId": "4eee17fe-5868-4e27-f72e-6823013c2a0e"
      },
      "outputs": [
        {
          "data": {
            "text/plain": [
              "[('Production', 15887),\n",
              " ('Sound', 9319),\n",
              " ('Art', 8069),\n",
              " ('Crew', 7315),\n",
              " ('Writing', 6567),\n",
              " ('Costume & Make-Up', 6156),\n",
              " ('Camera', 5424),\n",
              " ('Directing', 4954),\n",
              " ('Editing', 4508),\n",
              " ('Visual Effects', 3591),\n",
              " ('Lighting', 1303),\n",
              " ('Actors', 4)]"
            ]
          },
          "execution_count": 101,
          "metadata": {},
          "output_type": "execute_result"
        }
      ],
      "source": [
        "list_of_crew_departments = list(train['crew'].apply(lambda x: [i['department'] for i in x] if x != {} else []).values)\n",
        "Counter([i for j in list_of_crew_departments for i in j]).most_common(14)"
      ]
    },
    {
      "cell_type": "markdown",
      "metadata": {
        "id": "ac14ef0c"
      },
      "source": [
        "Creating Number of crew members column"
      ]
    },
    {
      "cell_type": "code",
      "execution_count": null,
      "metadata": {
        "colab": {
          "background_save": true
        },
        "id": "da8b2b6b"
      },
      "outputs": [],
      "source": [
        "train['num_crew'] = train['crew'].apply(lambda x: len(x) if x != {} else 0)"
      ]
    },
    {
      "cell_type": "code",
      "execution_count": null,
      "metadata": {
        "id": "6cc95df0"
      },
      "outputs": [],
      "source": [
        "plt.figure(figsize=(16, 8))\n",
        "plt.scatter(train['num_crew'], train['revenue'])\n",
        "plt.title('Number of crew members vs revenue');"
      ]
    },
    {
      "cell_type": "code",
      "execution_count": null,
      "metadata": {
        "id": "dfbad4b8"
      },
      "outputs": [],
      "source": [
        "top_crew_names = [m[0] for m in Counter([i for j in list_of_crew_names for i in j]).most_common(15)]\n",
        "for g in top_crew_names:\n",
        "    train['crew_name_' + g] = train['crew'].apply(lambda x: 1 if g in str(x) else 0)"
      ]
    },
    {
      "cell_type": "code",
      "execution_count": null,
      "metadata": {
        "id": "47375bff"
      },
      "outputs": [],
      "source": [
        "train['genders_0_crew'] = train['crew'].apply(lambda x: sum([1 for i in x if i['gender'] == 0]))\n",
        "train['genders_1_crew'] = train['crew'].apply(lambda x: sum([1 for i in x if i['gender'] == 1]))\n",
        "train['genders_2_crew'] = train['crew'].apply(lambda x: sum([1 for i in x if i['gender'] == 2]))"
      ]
    },
    {
      "cell_type": "markdown",
      "metadata": {
        "id": "3c7c8e87"
      },
      "source": [
        "Encoding the most common crew jobs and departments"
      ]
    },
    {
      "cell_type": "code",
      "execution_count": null,
      "metadata": {
        "id": "ca44edd8"
      },
      "outputs": [],
      "source": [
        "top_crew_jobs = [m[0] for m in Counter([i for j in list_of_crew_jobs for i in j]).most_common(15)]\n",
        "for j in top_crew_jobs:\n",
        "    train['jobs_' + j] = train['crew'].apply(lambda x: sum([1 for i in x if i['job'] == j]))\n",
        "top_crew_departments = [m[0] for m in Counter([i for j in list_of_crew_departments for i in j]).most_common(15)]\n",
        "for j in top_crew_departments:\n",
        "    train['departments_' + j] = train['crew'].apply(lambda x: sum([1 for i in x if i['department'] == j])) "
      ]
    },
    {
      "cell_type": "markdown",
      "metadata": {
        "id": "a486401c"
      },
      "source": [
        "Applying the same to the test set"
      ]
    },
    {
      "cell_type": "code",
      "execution_count": null,
      "metadata": {
        "id": "5b1a71f6"
      },
      "outputs": [],
      "source": [
        "test['num_crew'] = test['crew'].apply(lambda x: len(x) if x != {} else 0)\n",
        "for g in top_crew_names:\n",
        "    test['crew_name_' + g] = test['crew'].apply(lambda x: 1 if g in str(x) else 0)\n",
        "test['genders_0_crew'] = test['crew'].apply(lambda x: sum([1 for i in x if i['gender'] == 0]))\n",
        "test['genders_1_crew'] = test['crew'].apply(lambda x: sum([1 for i in x if i['gender'] == 1]))\n",
        "test['genders_2_crew'] = test['crew'].apply(lambda x: sum([1 for i in x if i['gender'] == 2]))\n",
        "for j in top_crew_jobs:\n",
        "    test['jobs_' + j] = test['crew'].apply(lambda x: sum([1 for i in x if i['job'] == j]))\n",
        "for j in top_crew_departments:\n",
        "    test['departments_' + j] = test['crew'].apply(lambda x: sum([1 for i in x if i['department'] == j])) "
      ]
    },
    {
      "cell_type": "code",
      "execution_count": null,
      "metadata": {
        "id": "89aebb72"
      },
      "outputs": [],
      "source": [
        "# from sklearn.preprocessing import OneHotEncoder"
      ]
    },
    {
      "cell_type": "code",
      "execution_count": null,
      "metadata": {
        "id": "1c1cc1ed"
      },
      "outputs": [],
      "source": [
        "# cat_cols = ['original_language','collection_name']"
      ]
    },
    {
      "cell_type": "code",
      "execution_count": null,
      "metadata": {
        "id": "449c3a28",
        "scrolled": true
      },
      "outputs": [],
      "source": [
        "# encoder = OneHotEncoder(sparse=False, handle_unknown='ignore')\n",
        "# encoder.fit(train[cat_cols])"
      ]
    },
    {
      "cell_type": "code",
      "execution_count": null,
      "metadata": {
        "id": "a23d7271",
        "scrolled": true
      },
      "outputs": [],
      "source": [
        "# encoded_cols = list(encoder.get_feature_names_out(cat_cols))\n",
        "# print(encoded_cols)"
      ]
    },
    {
      "cell_type": "code",
      "execution_count": null,
      "metadata": {
        "id": "86818870"
      },
      "outputs": [],
      "source": [
        "# new_train = train.copy()\n",
        "# new_test = test.copy()"
      ]
    },
    {
      "cell_type": "code",
      "execution_count": null,
      "metadata": {
        "id": "1b0461ee"
      },
      "outputs": [],
      "source": [
        "# new_train[encoded_cols] = encoder.transform(new_train[cat_cols])\n",
        "# new_test[encoded_cols] = encoder.transform(new_test[cat_cols])"
      ]
    },
    {
      "cell_type": "code",
      "execution_count": null,
      "metadata": {
        "id": "63d69418"
      },
      "outputs": [],
      "source": [
        "# train = new_train.copy()\n",
        "# test = new_test.copy()"
      ]
    },
    {
      "cell_type": "markdown",
      "metadata": {
        "id": "28114241"
      },
      "source": [
        "Adding additional Features"
      ]
    },
    {
      "cell_type": "code",
      "execution_count": null,
      "metadata": {
        "id": "e043fa5b"
      },
      "outputs": [],
      "source": [
        "train['bud_runtime']=(train['budget']+1)/(train['runtime']+1)\n",
        "\n",
        "train['bud_year']=(train['budget']+1)/(train['release_year']+1)\n",
        "\n",
        "train['bud_popularity']=(train['budget']+1)/(train['popularity']+1)\n",
        "\n",
        "train['runtime_year']=(train['runtime']+1)/(train['release_year']+1)\n",
        "\n",
        "train['popularity_year']=(train['popularity']+1)/(train['release_year']+1)"
      ]
    },
    {
      "cell_type": "code",
      "execution_count": null,
      "metadata": {
        "id": "cf83b306"
      },
      "outputs": [],
      "source": [
        "test['bud_runtime']=(test['budget']+1)/(test['runtime']+1)\n",
        "\n",
        "test['bud_year']=(test['budget']+1)/(test['release_year']+1)\n",
        "\n",
        "test['bud_popularity']=(test['budget']+1)/(test['popularity']+1)\n",
        "\n",
        "test['runtime_year']=(test['runtime']+1)/(test['release_year']+1)\n",
        "\n",
        "test['popularity_year']=(test['popularity']+1)/(test['release_year']+1)"
      ]
    },
    {
      "cell_type": "markdown",
      "metadata": {
        "id": "9507a613"
      },
      "source": [
        "Dropping a few columns"
      ]
    },
    {
      "cell_type": "code",
      "execution_count": null,
      "metadata": {
        "id": "f661f638"
      },
      "outputs": [],
      "source": [
        "train = train.drop(['crew'], axis=1)\n",
        "test = test.drop(['crew'], axis=1)"
      ]
    },
    {
      "cell_type": "code",
      "execution_count": null,
      "metadata": {
        "id": "afaad847"
      },
      "outputs": [],
      "source": [
        "train = train.drop(['imdb_id','release_date', 'status'], axis=1)\n",
        "test = test.drop(['imdb_id','release_date', 'status'], axis=1)"
      ]
    },
    {
      "cell_type": "code",
      "execution_count": null,
      "metadata": {
        "id": "ed56a940"
      },
      "outputs": [],
      "source": [
        "train = train.drop(['all_genres'], axis=1)\n",
        "test = test.drop(['all_genres'], axis=1)"
      ]
    },
    {
      "cell_type": "code",
      "execution_count": null,
      "metadata": {
        "id": "c1184ddf",
        "scrolled": true
      },
      "outputs": [],
      "source": [
        "train.shape, test.shape"
      ]
    },
    {
      "cell_type": "code",
      "execution_count": null,
      "metadata": {
        "id": "34vsyXCXnMBU"
      },
      "outputs": [],
      "source": [
        "X = train"
      ]
    },
    {
      "cell_type": "code",
      "execution_count": null,
      "metadata": {
        "id": "EAtQSCEPk4Oc"
      },
      "outputs": [],
      "source": [
        "corr_matrix = X.corr()\n",
        "sns.heatmap(corr_matrix,cmap='coolwarm')\n",
        "plt.show()\n",
        "imp_features = []\n",
        "for feature in corr_matrix.columns:\n",
        "  if abs(corr_matrix[feature]['revenue']) >= 0.3:\n",
        "    imp_features.append(feature)\n",
        "\n",
        "\n",
        "# Show the plot\n",
        "plt.show()\n",
        "# print(imp_features)\n",
        "X = X[imp_features]\n"
      ]
    },
    {
      "cell_type": "code",
      "execution_count": null,
      "metadata": {
        "id": "b6f2KMStl1gq"
      },
      "outputs": [],
      "source": [
        "imp_features.remove('revenue')\n",
        "test = test[imp_features]"
      ]
    },
    {
      "cell_type": "code",
      "execution_count": null,
      "metadata": {
        "id": "pOPluFlI2p1c"
      },
      "outputs": [],
      "source": [
        "X.shape"
      ]
    },
    {
      "cell_type": "code",
      "execution_count": null,
      "metadata": {
        "id": "D30fFNIK2pi_"
      },
      "outputs": [],
      "source": [
        "trained_model = X\n",
        "for i in ['original_language','overview','tagline','title','id','original_title']:\n",
        "  if i in trained_model.columns:\n",
        "    trained_model = trained_model.drop(i,axis = 1)"
      ]
    },
    {
      "cell_type": "code",
      "execution_count": null,
      "metadata": {
        "id": "uiw6djUPdCYf"
      },
      "outputs": [],
      "source": [
        "trained_model\n",
        "trained_model.to_csv('trainpreprocess.csv', index=False)"
      ]
    },
    {
      "cell_type": "code",
      "execution_count": null,
      "metadata": {
        "id": "Vzt3YABd3FR-"
      },
      "outputs": [],
      "source": [
        "X.head()"
      ]
    },
    {
      "cell_type": "markdown",
      "metadata": {
        "id": "923394b8"
      },
      "source": [
        "## Creating Models"
      ]
    },
    {
      "cell_type": "code",
      "execution_count": null,
      "metadata": {
        "id": "90a6c12e"
      },
      "outputs": [],
      "source": [
        "y = train['revenue']"
      ]
    },
    {
      "cell_type": "code",
      "execution_count": null,
      "metadata": {
        "id": "8386e8a4"
      },
      "outputs": [],
      "source": [
        "for i in ['original_language','overview','tagline','title','id','revenue','original_title']:\n",
        "  if i in X.columns:\n",
        "    X = X.drop(i,axis = 1)\n"
      ]
    },
    {
      "cell_type": "code",
      "execution_count": null,
      "metadata": {
        "id": "53ec4beb"
      },
      "outputs": [],
      "source": [
        "for i in ['original_language','overview','tagline','title','id','original_title']:\n",
        "  if i in test.columns:\n",
        "    test = test.drop(i,axis = 1)"
      ]
    },
    {
      "cell_type": "code",
      "execution_count": null,
      "metadata": {
        "id": "8ce82044",
        "scrolled": true
      },
      "outputs": [],
      "source": [
        "X.shape,y.shape,test.shape"
      ]
    },
    {
      "cell_type": "code",
      "execution_count": null,
      "metadata": {
        "id": "FCmTS1Iw2TbB"
      },
      "outputs": [],
      "source": [
        "X.columns"
      ]
    },
    {
      "cell_type": "code",
      "execution_count": null,
      "metadata": {
        "id": "AM5BTSfibxq5"
      },
      "outputs": [],
      "source": [
        "train"
      ]
    },
    {
      "cell_type": "markdown",
      "metadata": {
        "id": "7f4beaab"
      },
      "source": []
    },
    {
      "cell_type": "code",
      "execution_count": null,
      "metadata": {
        "id": "4e246fea"
      },
      "outputs": [],
      "source": [
        "from sklearn.model_selection import train_test_split\n",
        "from sklearn.model_selection import GridSearchCV\n",
        "X_train,X_val,y_train,y_val= train_test_split(X,y,test_size=0.3,random_state=42)"
      ]
    },
    {
      "cell_type": "code",
      "execution_count": null,
      "metadata": {
        "id": "c6836fc2"
      },
      "outputs": [],
      "source": [
        "X_train.shape,y_train.shape"
      ]
    },
    {
      "cell_type": "code",
      "execution_count": null,
      "metadata": {
        "id": "mRndhx21_bP3"
      },
      "outputs": [],
      "source": [
        "from sklearn.linear_model import LinearRegression\n",
        "from sklearn.model_selection import GridSearchCV\n",
        "from sklearn.datasets import make_regression\n",
        "from sklearn.model_selection import train_test_split\n",
        "from sklearn import metrics\n",
        "X_train, X_val, y_train, y_val = train_test_split(X, y, test_size=0.3, random_state=42)\n",
        "\n",
        "# Define the hyperparameters to be tuned\n",
        "param_grid = {\n",
        "    'fit_intercept': [True, False],\n",
        "}\n",
        "\n",
        "# Define the linear regression model\n",
        "from sklearn.metrics import confusion_matrix,f1_score,accuracy_score\n",
        "lr = LinearRegression()\n",
        "\n",
        "# Define the grid search object\n",
        "grid_search = GridSearchCV(lr, param_grid=param_grid, cv=5)\n",
        "\n",
        "# Fit the grid search object to the training data\n",
        "grid_search.fit(X_train, y_train)\n",
        "\n",
        "# Print the best hyperparameters and corresponding R-squared score\n",
        "print(\"Best Hyperparameters: \", grid_search.best_params_)\n",
        "print(\"Best R-squared Score: \", grid_search.best_score_)\n",
        "\n",
        "# Get the best model and make predictions on the validation set\n",
        "best_model = grid_search.best_estimator_\n",
        "lr_pred = best_model.predict(X_val)\n",
        "print('MAE:', metrics.mean_absolute_error(lr_pred, y_val))\n",
        "print('MSE:', metrics.mean_squared_error(lr_pred, y_val))\n",
        "linear_rmse = np.sqrt(metrics.mean_squared_error(lr_pred, y_val))\n",
        "grid_search.fit(X,y)\n",
        "best_model = grid_search.best_estimator_\n",
        "lr_full = best_model.predict(test)\n"
      ]
    },
    {
      "cell_type": "code",
      "execution_count": null,
      "metadata": {
        "id": "HoWsoa84_R0u"
      },
      "outputs": [],
      "source": [
        "from sklearn.metrics import r2_score\n",
        "r2score = r2_score(y_val, lr_pred)\n",
        "print(r2score)"
      ]
    },
    {
      "cell_type": "code",
      "execution_count": null,
      "metadata": {
        "id": "JpAXLJhkbGfP"
      },
      "outputs": [],
      "source": [
        "#REGULARIZATION METHOD\n",
        "from sklearn.linear_model import Lasso\n",
        "lasso_model = Lasso(alpha=0.001)\n",
        "\n",
        "# Fit the Lasso model to the training data\n",
        "lasso_model.fit(X_train, y_train)\n",
        "\n",
        "# Make predictions on the testing data\n",
        "ls_pred = lasso_model.predict(X_val)\n",
        "\n",
        "# Calculate the R-squared score on the testing data\n",
        "r2 = r2_score(y_val, ls_pred)\n",
        "\n",
        "print(\"Lasso Regression R-squared score:\", r2)\n",
        "print('MAE:', metrics.mean_absolute_error(ls_pred, y_val))\n",
        "print('MSE:', metrics.mean_squared_error(ls_pred, y_val))\n",
        "lasso_rmse = np.sqrt(metrics.mean_squared_error(ls_pred, y_val))"
      ]
    },
    {
      "cell_type": "code",
      "execution_count": null,
      "metadata": {
        "id": "jyqKTqEXcMWE"
      },
      "outputs": [],
      "source": [
        "from sklearn.linear_model import Ridge\n",
        "\n",
        "# Define the parameter grid to search over\n",
        "param_grid = {\n",
        "    'fit_intercept': [True, False],\n",
        "    'alpha': [0.1, 0.5, 1, 5, 10, 50, 100]\n",
        "}\n",
        "\n",
        "\n",
        "# Define the Ridge regression model\n",
        "rr = Ridge()\n",
        "\n",
        "# Define the grid search object\n",
        "grid_search = GridSearchCV(rr, param_grid=param_grid, cv=5)\n",
        "\n",
        "# Fit the grid search object to the training data\n",
        "grid_search.fit(X_train, y_train)\n",
        "best_model = grid_search.best_estimator_\n",
        "rd_pred = best_model.predict(X_val)\n",
        "\n",
        "# Print the best hyperparameters and corresponding R-squared score\n",
        "print(\"Best Hyperparameters: \", grid_search.best_params_)\n",
        "print(\"Best R-squared Score: \", grid_search.best_score_)\n",
        "print('MAE:', metrics.mean_absolute_error(rd_pred, y_val))\n",
        "print('MSE:', metrics.mean_squared_error(rd_pred, y_val))\n",
        "rideg_rmse = np.sqrt(metrics.mean_squared_error(rd_pred, y_val))\n"
      ]
    },
    {
      "cell_type": "code",
      "execution_count": null,
      "metadata": {
        "id": "19U6iyNrczW1"
      },
      "outputs": [],
      "source": [
        "ridge = Ridge(alpha=2000)\n",
        "\n",
        "# Fit the model to the training data\n",
        "ridge.fit(X_train, y_train)\n",
        "\n",
        "# Predict the target values for the test data\n",
        "y_pred = ridge.predict(X_val)\n",
        "print('MAE:', metrics.mean_absolute_error(y_pred, y_val))\n",
        "print('MSE:', metrics.mean_squared_error(y_pred, y_val))\n",
        "print('RMSE:', np.sqrt(metrics.mean_squared_error(y_pred, y_val)))"
      ]
    },
    {
      "cell_type": "code",
      "execution_count": null,
      "metadata": {
        "id": "46cc433c"
      },
      "outputs": [],
      "source": [
        "# lr_pred=linreg.predict(X_val)"
      ]
    },
    {
      "cell_type": "code",
      "execution_count": null,
      "metadata": {
        "id": "a11012a3"
      },
      "outputs": [],
      "source": [
        "lr_rmse= mean_squared_error(y_val, lr_pred, squared=False)\n",
        "lr_rmse"
      ]
    },
    {
      "cell_type": "code",
      "execution_count": null,
      "metadata": {
        "id": "mJx6By6IiZNm"
      },
      "outputs": [],
      "source": [
        "X.isna().sum()"
      ]
    },
    {
      "cell_type": "code",
      "execution_count": null,
      "metadata": {
        "id": "bf4047ad"
      },
      "outputs": [],
      "source": [
        "lr_full"
      ]
    },
    {
      "cell_type": "code",
      "execution_count": null,
      "metadata": {
        "id": "9d8fcfa5"
      },
      "outputs": [],
      "source": [
        "lr_full = np.array(lr_full, dtype=np.float128)"
      ]
    },
    {
      "cell_type": "code",
      "execution_count": null,
      "metadata": {
        "id": "dV8jQf6Le_yG"
      },
      "outputs": [],
      "source": [
        "lr_full = np.expm1(lr_full)"
      ]
    },
    {
      "cell_type": "code",
      "execution_count": null,
      "metadata": {
        "id": "01af2953"
      },
      "outputs": [],
      "source": [
        "submission['revenue'] = lr_full\n",
        "submission.to_csv(\"lr.csv\", index=False)"
      ]
    },
    {
      "cell_type": "code",
      "execution_count": null,
      "metadata": {
        "id": "GAdm-ETMl4nP"
      },
      "outputs": [],
      "source": [
        "submission.head()"
      ]
    },
    {
      "cell_type": "code",
      "execution_count": null,
      "metadata": {
        "id": "_k1RxgYaqGmO"
      },
      "outputs": [],
      "source": [
        "from sklearn import metrics"
      ]
    },
    {
      "cell_type": "code",
      "execution_count": null,
      "metadata": {
        "id": "iHfAZlYTGlRV"
      },
      "outputs": [],
      "source": [
        "print('MAE:', metrics.mean_absolute_error(lr_pred, y_val))\n",
        "print('MSE:', metrics.mean_squared_error(lr_pred, y_val))\n",
        "print('RMSE:', np.sqrt(metrics.mean_squared_error(lr_pred, y_val)))"
      ]
    },
    {
      "cell_type": "code",
      "execution_count": null,
      "metadata": {
        "id": "rsOmcz5kBMy8"
      },
      "outputs": [],
      "source": [
        "X_train.shape"
      ]
    },
    {
      "cell_type": "markdown",
      "metadata": {
        "id": "fde9ec00"
      },
      "source": [
        "## RandomForest"
      ]
    },
    {
      "cell_type": "code",
      "execution_count": null,
      "metadata": {
        "id": "DP6Z-r6qsD8K"
      },
      "outputs": [],
      "source": [
        "from sklearn.ensemble import RandomForestRegressor\n",
        "rf_model = RandomForestRegressor(random_state=42, \n",
        "                                  max_features='auto', \n",
        "                                  n_estimators= 1000, \n",
        "                                  min_samples_leaf=5)"
      ]
    },
    {
      "cell_type": "code",
      "execution_count": null,
      "metadata": {
        "id": "Z-GOc2vJsJz9"
      },
      "outputs": [],
      "source": [
        "rf_model.fit(X_train,y_train)"
      ]
    },
    {
      "cell_type": "code",
      "execution_count": null,
      "metadata": {
        "id": "jkPmqW16sNEL"
      },
      "outputs": [],
      "source": [
        "rf_pred = rf_model.predict(X_val)"
      ]
    },
    {
      "cell_type": "code",
      "execution_count": null,
      "metadata": {
        "id": "0ziEKuq7s5Bs"
      },
      "outputs": [],
      "source": [
        "rf_full = rf_model.predict(test)"
      ]
    },
    {
      "cell_type": "code",
      "execution_count": null,
      "metadata": {
        "id": "NSIPVehHtDdt"
      },
      "outputs": [],
      "source": [
        "rf_full = np.array(rf_full, dtype=np.float128)"
      ]
    },
    {
      "cell_type": "code",
      "execution_count": null,
      "metadata": {
        "id": "0e590806",
        "scrolled": true
      },
      "outputs": [],
      "source": [
        "rf_rmse = mean_squared_error(y_val, rf_pred, squared=False)\n",
        "rf_rmse"
      ]
    },
    {
      "cell_type": "code",
      "execution_count": null,
      "metadata": {
        "id": "xsNEUmVgt0s8"
      },
      "outputs": [],
      "source": [
        "rf_full = np.expm1(rf_full)"
      ]
    },
    {
      "cell_type": "code",
      "execution_count": null,
      "metadata": {
        "id": "c34f79f7"
      },
      "outputs": [],
      "source": [
        "submission['revenue'] =rf_full \n",
        "submission.to_csv(\"rf.csv\", index=False)"
      ]
    },
    {
      "cell_type": "code",
      "execution_count": null,
      "metadata": {
        "id": "jYgww20_uD1i"
      },
      "outputs": [],
      "source": [
        "print('MAE:', metrics.mean_absolute_error(rf_pred, y_val))\n",
        "print('MSE:', metrics.mean_squared_error(rf_pred, y_val))\n",
        "random_forest_rmse = np.sqrt(metrics.mean_squared_error(rf_pred, y_val))"
      ]
    },
    {
      "cell_type": "markdown",
      "metadata": {
        "id": "3d69aff6"
      },
      "source": [
        "## XGB"
      ]
    },
    {
      "cell_type": "code",
      "execution_count": null,
      "metadata": {
        "id": "0aa2d930",
        "scrolled": false
      },
      "outputs": [],
      "source": [
        "!pip install xgboost --upgrade --quiet"
      ]
    },
    {
      "cell_type": "code",
      "execution_count": null,
      "metadata": {
        "id": "7dbf4747"
      },
      "outputs": [],
      "source": [
        "# def XGBoost(X,y,file):\n",
        "#   from sklearn.model_selection import train_test_split\n",
        "#   X_train, X_val, y_train, y_val = train_test_split(X, y, test_size=0.3, random_state=42)\n",
        "\n",
        "from xgboost import XGBRegressor\n",
        "xgb = XGBRegressor(n_estimators=100, learning_rate=0.1, max_depth=3)\n",
        "\n",
        "  # Fit the model to the training data\n",
        "xgb.fit(X_train, y_train)\n",
        "\n",
        "  # Make predictions on the validation set\n",
        "xgb_pred = xgb.predict(X_val)\n",
        "xgb.fit(X,y)\n",
        "xgb_full = xgb.predict(test)\n",
        "xgb_full = np.array(xgb_full, dtype=np.float128)\n",
        "xgb_full = np.expm1(xgb_full)\n",
        "submission['revenue'] = xgb_full\n",
        "submission.to_csv(\"xgb.csv\", index=False)\n",
        "# return submission\n",
        "mse = mean_squared_error(y_val, xgb_pred)\n",
        "print(\"Mean Squared Error: \", mse)"
      ]
    },
    {
      "cell_type": "code",
      "execution_count": null,
      "metadata": {
        "id": "xdO48tIWFr0E"
      },
      "outputs": [],
      "source": [
        "\n",
        "xgb = XGBRegressor(n_estimators=100, learning_rate=0.1, max_depth=3)\n",
        "\n",
        "# Fit the model to the training data\n",
        "xgb.fit(X_train, y_train)\n",
        "\n",
        "# Make predictions on the validation set\n",
        "xgb_pred = xgb.predict(X_val)\n",
        "\n",
        "# Evaluate the model using mean squared error\n",
        "mse = mean_squared_error(y_val, xgb_pred)\n",
        "print(\"Mean Squared Error: \", mse)"
      ]
    },
    {
      "cell_type": "code",
      "execution_count": null,
      "metadata": {
        "id": "UIIkOlnrGAKs"
      },
      "outputs": [],
      "source": [
        "xgb = XGBRegressor()\n",
        "\n",
        "# Define the grid search parameters\n",
        "param_grid = {\n",
        "    'learning_rate': [0.01, 0.05, 0.1, 0.2],\n",
        "    'max_depth': [3, 5, 7],\n",
        "    'n_estimators': [50, 100, 200],\n",
        "    'subsample': [0.5, 0.7, 1],\n",
        "}\n",
        "\n",
        "# Define the grid search object\n",
        "grid_search = GridSearchCV(xgb, param_grid=param_grid, cv=5, n_jobs=-1, verbose=1)\n",
        "\n",
        "# Fit the grid search object to the training data\n",
        "grid_search.fit(X_train, y_train)\n",
        "\n",
        "# Print the best hyperparameters and corresponding R-squared score\n",
        "print(\"Best Hyperparameters: \", grid_search.best_params_)\n",
        "print(\"Best R-squared Score: \", grid_search.best_score_)\n",
        "\n",
        "# Make predictions on the validation set using the best model\n",
        "best_model = grid_search.best_estimator_\n",
        "xgb_pred = best_model.predict(X_val)\n",
        "\n",
        "# Evaluate the model using mean squared error\n",
        "mse = mean_squared_error(y_val, xgb_pred)\n",
        "print(\"Mean Squared Error: \", mse)"
      ]
    },
    {
      "cell_type": "code",
      "execution_count": null,
      "metadata": {
        "id": "oWJQnyDcCPRz"
      },
      "outputs": [],
      "source": [
        "print('MAE:', metrics.mean_absolute_error(xgb_pred, y_val))\n",
        "print('MSE:', metrics.mean_squared_error(xgb_pred, y_val))\n",
        "xgb_rmse = np.sqrt(metrics.mean_squared_error(xgb_pred, y_val))"
      ]
    },
    {
      "cell_type": "code",
      "execution_count": null,
      "metadata": {
        "id": "yhW7CbnbEYRf"
      },
      "outputs": [],
      "source": [
        "r2score = r2_score(y_val, lr_pred)\n",
        "print(r2score)"
      ]
    },
    {
      "cell_type": "code",
      "execution_count": null,
      "metadata": {
        "id": "IAVvSFrPCUmr"
      },
      "outputs": [],
      "source": [
        "data = {'Model': ['Linear Regression', 'Lasso Regression', 'Ridge Regression', 'Random Forest', 'XGBoost'], 'RMSE': [linear_rmse, lasso_rmse, rideg_rmse, random_forest_rmse, xgb_rmse]}\n",
        "df = pd.DataFrame(data)\n",
        "df.head()"
      ]
    },
    {
      "cell_type": "code",
      "execution_count": null,
      "metadata": {
        "id": "ZvXbBXU3Ff79"
      },
      "outputs": [],
      "source": [
        "rmse_values = [linear_rmse, lasso_rmse, rideg_rmse, random_forest_rmse, xgb_rmse]\n",
        "\n",
        "# Algorithm names\n",
        "algorithm_names = ['Linear', 'Lasso', 'Ridge', 'Random Forest', 'XGBoost']\n",
        "\n",
        "# Plot the RMSE values as a line graph\n",
        "plt.plot(algorithm_names, rmse_values)\n",
        "\n",
        "# Label the axes and add a title\n",
        "# plt.xlabel('Algorithm')\n",
        "plt.ylabel('RMSE')\n",
        "plt.title('RMSE Values for Different Algorithms')\n",
        "\n",
        "# Display the graph\n",
        "plt.show()"
      ]
    },
    {
      "cell_type": "code",
      "execution_count": null,
      "metadata": {
        "id": "mBJacEPaGj-x"
      },
      "outputs": [],
      "source": [
        "!pip install gradio\n",
        "import gradio as gr\n",
        "def movie_critic(budget, has_a_tagline,production_country_United_States_of_America, num_cast,genders_2_cast, num_crew, genders_1_crew, genders_2_crew,departments_Sound, departments_Art, departments_Editing,bud_year):\n",
        "    data = pd.DataFrame({\n",
        "        'budget': [budget],\n",
        "        'has_a_tagline': [has_a_tagline],\n",
        "        'production_country_United States of America': [production_country_United_States_of_America],\n",
        "        'num_cast': [num_cast],\n",
        "        'genders_2_cast': [genders_2_cast],\n",
        "        'num_crew': [num_crew],\n",
        "        'genders_1_crew': [genders_1_crew],\n",
        "        'genders_2_crew': [genders_2_crew],\n",
        "        'departments_Sound': [departments_Sound],\n",
        "        'departments_Art': [departments_Art],\n",
        "        'departments_Editing': [departments_Editing],\n",
        "        'bud_year': [bud_year]\n",
        "    })\n",
        "    from sklearn.model_selection import train_test_split\n",
        "    X_train, X_val, y_train, y_val = train_test_split(X, y, test_size=0.3, random_state=42)\n",
        "    from xgboost import XGBRegressor\n",
        "    xgb = XGBRegressor(n_estimators=100, learning_rate=0.1, max_depth=3)\n",
        "\n",
        "    # Fit the model to the training data\n",
        "    xgb.fit(X_train, y_train)\n",
        "\n",
        "    # Make predictions on the validation set\n",
        "    xgb.fit(X,y)\n",
        "    prediction = xgb.predict(data)\n",
        "    # prediction = np.array(xgb_full, dtype=np.float128)\n",
        "    prediction = np.expm1(prediction)\n",
        "    return prediction[0]\n",
        "    \n",
        "\n",
        "# Create the Gradio interface\n",
        "gradio_interface = gr.Interface(\n",
        "    fn=movie_critic,\n",
        "    inputs=[\n",
        "        gr.inputs.Number(label='Budget in 10 million'),\n",
        "        gr.inputs.Number(label='Does the movie has tagline?'),\n",
        "        gr.inputs.Number(label='is the production country United States of America?'),\n",
        "        gr.inputs.Number(label='Number of cast members'),\n",
        "        gr.inputs.Number(label='Number of male cast members'),\n",
        "        gr.inputs.Number(label='Number of crew members'),\n",
        "        gr.inputs.Number(label='No of female crew members'),\n",
        "        gr.inputs.Number(label='No of male crew members'),\n",
        "        gr.inputs.Number(label='No.of members in sound department'),\n",
        "        gr.inputs.Number(label='No.of members in art department'),\n",
        "        gr.inputs.Number(label='No.of members in editing department'),\n",
        "        gr.inputs.Number(label='Enter the ratio of budget and release year'),\n",
        "\n",
        "    ],\n",
        "      outputs=gr.outputs.Textbox(label='revenue'),\n",
        "      title = \"Revenue prediction\",\n",
        "      layout=\"vertical\",\n",
        "      theme = \"compact\"\n",
        ")\n",
        "\n",
        "# Launch the interface\n",
        "gradio_interface.launch(debug=False,share=True)"
      ]
    }
  ],
  "metadata": {
    "colab": {
      "provenance": []
    },
    "kernelspec": {
      "display_name": "Python 3",
      "name": "python3"
    },
    "language_info": {
      "name": "python"
    }
  },
  "nbformat": 4,
  "nbformat_minor": 0
}